{
 "cells": [
  {
   "cell_type": "markdown",
   "metadata": {
    "toc": true
   },
   "source": [
    "<h1>Содержание<span class=\"tocSkip\"></span></h1>\n",
    "<div class=\"toc\"><ul class=\"toc-item\"><li><span><a href=\"#Подготовка-данных\" data-toc-modified-id=\"Подготовка-данных-1\"><span class=\"toc-item-num\">1&nbsp;&nbsp;</span>Подготовка данных</a></span></li><li><span><a href=\"#Исследование-задачи\" data-toc-modified-id=\"Исследование-задачи-2\"><span class=\"toc-item-num\">2&nbsp;&nbsp;</span>Исследование задачи</a></span></li><li><span><a href=\"#Борьба-с-дисбалансом\" data-toc-modified-id=\"Борьба-с-дисбалансом-3\"><span class=\"toc-item-num\">3&nbsp;&nbsp;</span>Борьба с дисбалансом</a></span></li><li><span><a href=\"#Тестирование-модели\" data-toc-modified-id=\"Тестирование-модели-4\"><span class=\"toc-item-num\">4&nbsp;&nbsp;</span>Тестирование модели</a></span></li><li><span><a href=\"#Чек-лист-готовности-проекта\" data-toc-modified-id=\"Чек-лист-готовности-проекта-5\"><span class=\"toc-item-num\">5&nbsp;&nbsp;</span>Чек-лист готовности проекта</a></span></li></ul></div>"
   ]
  },
  {
   "cell_type": "markdown",
   "metadata": {},
   "source": [
    "# Отток клиентов"
   ]
  },
  {
   "cell_type": "markdown",
   "metadata": {},
   "source": [
    "Из «Банка» стали уходить клиенты. Каждый месяц. Немного, но заметно. Банковские маркетологи посчитали: сохранять текущих клиентов дешевле, чем привлекать новых.\n",
    "\n",
    "**Цель:** прогнозирование ухода клиента из банка в ближайшее время. \n",
    "\n",
    "**Данные:** исторические данные о поведении клиентов и расторжении договоров с банком. \n",
    "\n",
    "**Задача:** Построить модель с предельно большим значением *F1*- меры. (Метрика - не менее 0.59).\n",
    "\n",
    "**План:**\n",
    "- Загрузка и подготовка данных\n",
    "- Исследование баланса классов, обучение модели без учёта дисбаланса.\n",
    "- Улучшение качества модели, учитывая дисбаланс классов. \n",
    "- Обучение разных моделей. Опрелеление лучшей.\n",
    "- Финальное тестирование.\n",
    "\n",
    "Дополнительное измерение *AUC-ROC*, сравнение её значения с *F1*-мерой.\n",
    "\n",
    "Источник данных: [https://www.kaggle.com/barelydedicated/bank-customer-churn-modeling](https://www.kaggle.com/barelydedicated/bank-customer-churn-modeling)\n",
    "\n",
    "**Описание данных**\n",
    "\n",
    "**Признаки:**\n",
    "- RowNumber — индекс строки в данных\n",
    "- CustomerId — уникальный идентификатор клиента\n",
    "- Surname — фамилия\n",
    "- CreditScore — кредитный рейтинг\n",
    "- Geography — страна проживания\n",
    "- Gender — пол\n",
    "- Age — возраст\n",
    "- Tenure — сколько лет человек является клиентом банка\n",
    "- Balance — баланс на счёте\n",
    "- NumOfProducts — количество продуктов банка, используемых клиентом\n",
    "- HasCrCard — наличие кредитной карты\n",
    "- IsActiveMember — активность клиента\n",
    "- EstimatedSalary — предполагаемая зарплата\n",
    "\n",
    "**Целевой признак:**\n",
    "- Exited — факт ухода клиента"
   ]
  },
  {
   "cell_type": "markdown",
   "metadata": {},
   "source": [
    "## Подготовка данных"
   ]
  },
  {
   "cell_type": "markdown",
   "metadata": {},
   "source": [
    "Загрузим необходимые библиотеки"
   ]
  },
  {
   "cell_type": "code",
   "execution_count": 1,
   "metadata": {},
   "outputs": [],
   "source": [
    "import pandas as pd\n",
    "import numpy as np\n",
    "import seaborn as sb\n",
    "import matplotlib.pyplot as plt\n",
    "from sklearn.metrics import f1_score, recall_score, precision_score, auc, roc_curve, accuracy_score, confusion_matrix\n",
    "from sklearn.metrics import roc_auc_score\n",
    "import matplotlib.pyplot as plt\n",
    "from sklearn.preprocessing import OrdinalEncoder, StandardScaler\n",
    "from sklearn.linear_model import LogisticRegression\n",
    "from sklearn.ensemble import RandomForestClassifier\n",
    "from sklearn.tree import DecisionTreeClassifier\n",
    "from sklearn.metrics import mean_absolute_error\n",
    "from sklearn.model_selection import train_test_split\n",
    "from sklearn.utils import shuffle\n",
    "from sklearn.preprocessing import StandardScaler\n",
    "from sklearn.model_selection import GridSearchCV\n",
    "from sklearn.ensemble import RandomForestRegressor"
   ]
  },
  {
   "cell_type": "markdown",
   "metadata": {},
   "source": [
    "Загрузим и изучим данные"
   ]
  },
  {
   "cell_type": "code",
   "execution_count": 2,
   "metadata": {},
   "outputs": [],
   "source": [
    "data = pd.read_csv('/datasets/Churn.csv')"
   ]
  },
  {
   "cell_type": "code",
   "execution_count": 3,
   "metadata": {},
   "outputs": [
    {
     "name": "stdout",
     "output_type": "stream",
     "text": [
      "<class 'pandas.core.frame.DataFrame'>\n",
      "RangeIndex: 10000 entries, 0 to 9999\n",
      "Data columns (total 14 columns):\n",
      " #   Column           Non-Null Count  Dtype  \n",
      "---  ------           --------------  -----  \n",
      " 0   RowNumber        10000 non-null  int64  \n",
      " 1   CustomerId       10000 non-null  int64  \n",
      " 2   Surname          10000 non-null  object \n",
      " 3   CreditScore      10000 non-null  int64  \n",
      " 4   Geography        10000 non-null  object \n",
      " 5   Gender           10000 non-null  object \n",
      " 6   Age              10000 non-null  int64  \n",
      " 7   Tenure           9091 non-null   float64\n",
      " 8   Balance          10000 non-null  float64\n",
      " 9   NumOfProducts    10000 non-null  int64  \n",
      " 10  HasCrCard        10000 non-null  int64  \n",
      " 11  IsActiveMember   10000 non-null  int64  \n",
      " 12  EstimatedSalary  10000 non-null  float64\n",
      " 13  Exited           10000 non-null  int64  \n",
      "dtypes: float64(3), int64(8), object(3)\n",
      "memory usage: 1.1+ MB\n"
     ]
    }
   ],
   "source": [
    "# посмотрим основную информацию в данных\n",
    "data.info()"
   ]
  },
  {
   "cell_type": "code",
   "execution_count": 4,
   "metadata": {},
   "outputs": [
    {
     "data": {
      "text/plain": [
       "(10000, 14)"
      ]
     },
     "execution_count": 4,
     "metadata": {},
     "output_type": "execute_result"
    }
   ],
   "source": [
    "# выведем размеры \n",
    "data.shape"
   ]
  },
  {
   "cell_type": "code",
   "execution_count": 5,
   "metadata": {
    "scrolled": true
   },
   "outputs": [
    {
     "data": {
      "text/html": [
       "<div>\n",
       "<style scoped>\n",
       "    .dataframe tbody tr th:only-of-type {\n",
       "        vertical-align: middle;\n",
       "    }\n",
       "\n",
       "    .dataframe tbody tr th {\n",
       "        vertical-align: top;\n",
       "    }\n",
       "\n",
       "    .dataframe thead th {\n",
       "        text-align: right;\n",
       "    }\n",
       "</style>\n",
       "<table border=\"1\" class=\"dataframe\">\n",
       "  <thead>\n",
       "    <tr style=\"text-align: right;\">\n",
       "      <th></th>\n",
       "      <th>RowNumber</th>\n",
       "      <th>CustomerId</th>\n",
       "      <th>Surname</th>\n",
       "      <th>CreditScore</th>\n",
       "      <th>Geography</th>\n",
       "      <th>Gender</th>\n",
       "      <th>Age</th>\n",
       "      <th>Tenure</th>\n",
       "      <th>Balance</th>\n",
       "      <th>NumOfProducts</th>\n",
       "      <th>HasCrCard</th>\n",
       "      <th>IsActiveMember</th>\n",
       "      <th>EstimatedSalary</th>\n",
       "      <th>Exited</th>\n",
       "    </tr>\n",
       "  </thead>\n",
       "  <tbody>\n",
       "    <tr>\n",
       "      <th>0</th>\n",
       "      <td>1</td>\n",
       "      <td>15634602</td>\n",
       "      <td>Hargrave</td>\n",
       "      <td>619</td>\n",
       "      <td>France</td>\n",
       "      <td>Female</td>\n",
       "      <td>42</td>\n",
       "      <td>2.0</td>\n",
       "      <td>0.00</td>\n",
       "      <td>1</td>\n",
       "      <td>1</td>\n",
       "      <td>1</td>\n",
       "      <td>101348.88</td>\n",
       "      <td>1</td>\n",
       "    </tr>\n",
       "    <tr>\n",
       "      <th>1</th>\n",
       "      <td>2</td>\n",
       "      <td>15647311</td>\n",
       "      <td>Hill</td>\n",
       "      <td>608</td>\n",
       "      <td>Spain</td>\n",
       "      <td>Female</td>\n",
       "      <td>41</td>\n",
       "      <td>1.0</td>\n",
       "      <td>83807.86</td>\n",
       "      <td>1</td>\n",
       "      <td>0</td>\n",
       "      <td>1</td>\n",
       "      <td>112542.58</td>\n",
       "      <td>0</td>\n",
       "    </tr>\n",
       "    <tr>\n",
       "      <th>2</th>\n",
       "      <td>3</td>\n",
       "      <td>15619304</td>\n",
       "      <td>Onio</td>\n",
       "      <td>502</td>\n",
       "      <td>France</td>\n",
       "      <td>Female</td>\n",
       "      <td>42</td>\n",
       "      <td>8.0</td>\n",
       "      <td>159660.80</td>\n",
       "      <td>3</td>\n",
       "      <td>1</td>\n",
       "      <td>0</td>\n",
       "      <td>113931.57</td>\n",
       "      <td>1</td>\n",
       "    </tr>\n",
       "    <tr>\n",
       "      <th>3</th>\n",
       "      <td>4</td>\n",
       "      <td>15701354</td>\n",
       "      <td>Boni</td>\n",
       "      <td>699</td>\n",
       "      <td>France</td>\n",
       "      <td>Female</td>\n",
       "      <td>39</td>\n",
       "      <td>1.0</td>\n",
       "      <td>0.00</td>\n",
       "      <td>2</td>\n",
       "      <td>0</td>\n",
       "      <td>0</td>\n",
       "      <td>93826.63</td>\n",
       "      <td>0</td>\n",
       "    </tr>\n",
       "    <tr>\n",
       "      <th>4</th>\n",
       "      <td>5</td>\n",
       "      <td>15737888</td>\n",
       "      <td>Mitchell</td>\n",
       "      <td>850</td>\n",
       "      <td>Spain</td>\n",
       "      <td>Female</td>\n",
       "      <td>43</td>\n",
       "      <td>2.0</td>\n",
       "      <td>125510.82</td>\n",
       "      <td>1</td>\n",
       "      <td>1</td>\n",
       "      <td>1</td>\n",
       "      <td>79084.10</td>\n",
       "      <td>0</td>\n",
       "    </tr>\n",
       "    <tr>\n",
       "      <th>5</th>\n",
       "      <td>6</td>\n",
       "      <td>15574012</td>\n",
       "      <td>Chu</td>\n",
       "      <td>645</td>\n",
       "      <td>Spain</td>\n",
       "      <td>Male</td>\n",
       "      <td>44</td>\n",
       "      <td>8.0</td>\n",
       "      <td>113755.78</td>\n",
       "      <td>2</td>\n",
       "      <td>1</td>\n",
       "      <td>0</td>\n",
       "      <td>149756.71</td>\n",
       "      <td>1</td>\n",
       "    </tr>\n",
       "    <tr>\n",
       "      <th>6</th>\n",
       "      <td>7</td>\n",
       "      <td>15592531</td>\n",
       "      <td>Bartlett</td>\n",
       "      <td>822</td>\n",
       "      <td>France</td>\n",
       "      <td>Male</td>\n",
       "      <td>50</td>\n",
       "      <td>7.0</td>\n",
       "      <td>0.00</td>\n",
       "      <td>2</td>\n",
       "      <td>1</td>\n",
       "      <td>1</td>\n",
       "      <td>10062.80</td>\n",
       "      <td>0</td>\n",
       "    </tr>\n",
       "    <tr>\n",
       "      <th>7</th>\n",
       "      <td>8</td>\n",
       "      <td>15656148</td>\n",
       "      <td>Obinna</td>\n",
       "      <td>376</td>\n",
       "      <td>Germany</td>\n",
       "      <td>Female</td>\n",
       "      <td>29</td>\n",
       "      <td>4.0</td>\n",
       "      <td>115046.74</td>\n",
       "      <td>4</td>\n",
       "      <td>1</td>\n",
       "      <td>0</td>\n",
       "      <td>119346.88</td>\n",
       "      <td>1</td>\n",
       "    </tr>\n",
       "    <tr>\n",
       "      <th>8</th>\n",
       "      <td>9</td>\n",
       "      <td>15792365</td>\n",
       "      <td>He</td>\n",
       "      <td>501</td>\n",
       "      <td>France</td>\n",
       "      <td>Male</td>\n",
       "      <td>44</td>\n",
       "      <td>4.0</td>\n",
       "      <td>142051.07</td>\n",
       "      <td>2</td>\n",
       "      <td>0</td>\n",
       "      <td>1</td>\n",
       "      <td>74940.50</td>\n",
       "      <td>0</td>\n",
       "    </tr>\n",
       "    <tr>\n",
       "      <th>9</th>\n",
       "      <td>10</td>\n",
       "      <td>15592389</td>\n",
       "      <td>H?</td>\n",
       "      <td>684</td>\n",
       "      <td>France</td>\n",
       "      <td>Male</td>\n",
       "      <td>27</td>\n",
       "      <td>2.0</td>\n",
       "      <td>134603.88</td>\n",
       "      <td>1</td>\n",
       "      <td>1</td>\n",
       "      <td>1</td>\n",
       "      <td>71725.73</td>\n",
       "      <td>0</td>\n",
       "    </tr>\n",
       "    <tr>\n",
       "      <th>10</th>\n",
       "      <td>11</td>\n",
       "      <td>15767821</td>\n",
       "      <td>Bearce</td>\n",
       "      <td>528</td>\n",
       "      <td>France</td>\n",
       "      <td>Male</td>\n",
       "      <td>31</td>\n",
       "      <td>6.0</td>\n",
       "      <td>102016.72</td>\n",
       "      <td>2</td>\n",
       "      <td>0</td>\n",
       "      <td>0</td>\n",
       "      <td>80181.12</td>\n",
       "      <td>0</td>\n",
       "    </tr>\n",
       "    <tr>\n",
       "      <th>11</th>\n",
       "      <td>12</td>\n",
       "      <td>15737173</td>\n",
       "      <td>Andrews</td>\n",
       "      <td>497</td>\n",
       "      <td>Spain</td>\n",
       "      <td>Male</td>\n",
       "      <td>24</td>\n",
       "      <td>3.0</td>\n",
       "      <td>0.00</td>\n",
       "      <td>2</td>\n",
       "      <td>1</td>\n",
       "      <td>0</td>\n",
       "      <td>76390.01</td>\n",
       "      <td>0</td>\n",
       "    </tr>\n",
       "    <tr>\n",
       "      <th>12</th>\n",
       "      <td>13</td>\n",
       "      <td>15632264</td>\n",
       "      <td>Kay</td>\n",
       "      <td>476</td>\n",
       "      <td>France</td>\n",
       "      <td>Female</td>\n",
       "      <td>34</td>\n",
       "      <td>10.0</td>\n",
       "      <td>0.00</td>\n",
       "      <td>2</td>\n",
       "      <td>1</td>\n",
       "      <td>0</td>\n",
       "      <td>26260.98</td>\n",
       "      <td>0</td>\n",
       "    </tr>\n",
       "    <tr>\n",
       "      <th>13</th>\n",
       "      <td>14</td>\n",
       "      <td>15691483</td>\n",
       "      <td>Chin</td>\n",
       "      <td>549</td>\n",
       "      <td>France</td>\n",
       "      <td>Female</td>\n",
       "      <td>25</td>\n",
       "      <td>5.0</td>\n",
       "      <td>0.00</td>\n",
       "      <td>2</td>\n",
       "      <td>0</td>\n",
       "      <td>0</td>\n",
       "      <td>190857.79</td>\n",
       "      <td>0</td>\n",
       "    </tr>\n",
       "    <tr>\n",
       "      <th>14</th>\n",
       "      <td>15</td>\n",
       "      <td>15600882</td>\n",
       "      <td>Scott</td>\n",
       "      <td>635</td>\n",
       "      <td>Spain</td>\n",
       "      <td>Female</td>\n",
       "      <td>35</td>\n",
       "      <td>7.0</td>\n",
       "      <td>0.00</td>\n",
       "      <td>2</td>\n",
       "      <td>1</td>\n",
       "      <td>1</td>\n",
       "      <td>65951.65</td>\n",
       "      <td>0</td>\n",
       "    </tr>\n",
       "    <tr>\n",
       "      <th>15</th>\n",
       "      <td>16</td>\n",
       "      <td>15643966</td>\n",
       "      <td>Goforth</td>\n",
       "      <td>616</td>\n",
       "      <td>Germany</td>\n",
       "      <td>Male</td>\n",
       "      <td>45</td>\n",
       "      <td>3.0</td>\n",
       "      <td>143129.41</td>\n",
       "      <td>2</td>\n",
       "      <td>0</td>\n",
       "      <td>1</td>\n",
       "      <td>64327.26</td>\n",
       "      <td>0</td>\n",
       "    </tr>\n",
       "    <tr>\n",
       "      <th>16</th>\n",
       "      <td>17</td>\n",
       "      <td>15737452</td>\n",
       "      <td>Romeo</td>\n",
       "      <td>653</td>\n",
       "      <td>Germany</td>\n",
       "      <td>Male</td>\n",
       "      <td>58</td>\n",
       "      <td>1.0</td>\n",
       "      <td>132602.88</td>\n",
       "      <td>1</td>\n",
       "      <td>1</td>\n",
       "      <td>0</td>\n",
       "      <td>5097.67</td>\n",
       "      <td>1</td>\n",
       "    </tr>\n",
       "    <tr>\n",
       "      <th>17</th>\n",
       "      <td>18</td>\n",
       "      <td>15788218</td>\n",
       "      <td>Henderson</td>\n",
       "      <td>549</td>\n",
       "      <td>Spain</td>\n",
       "      <td>Female</td>\n",
       "      <td>24</td>\n",
       "      <td>9.0</td>\n",
       "      <td>0.00</td>\n",
       "      <td>2</td>\n",
       "      <td>1</td>\n",
       "      <td>1</td>\n",
       "      <td>14406.41</td>\n",
       "      <td>0</td>\n",
       "    </tr>\n",
       "    <tr>\n",
       "      <th>18</th>\n",
       "      <td>19</td>\n",
       "      <td>15661507</td>\n",
       "      <td>Muldrow</td>\n",
       "      <td>587</td>\n",
       "      <td>Spain</td>\n",
       "      <td>Male</td>\n",
       "      <td>45</td>\n",
       "      <td>6.0</td>\n",
       "      <td>0.00</td>\n",
       "      <td>1</td>\n",
       "      <td>0</td>\n",
       "      <td>0</td>\n",
       "      <td>158684.81</td>\n",
       "      <td>0</td>\n",
       "    </tr>\n",
       "    <tr>\n",
       "      <th>19</th>\n",
       "      <td>20</td>\n",
       "      <td>15568982</td>\n",
       "      <td>Hao</td>\n",
       "      <td>726</td>\n",
       "      <td>France</td>\n",
       "      <td>Female</td>\n",
       "      <td>24</td>\n",
       "      <td>6.0</td>\n",
       "      <td>0.00</td>\n",
       "      <td>2</td>\n",
       "      <td>1</td>\n",
       "      <td>1</td>\n",
       "      <td>54724.03</td>\n",
       "      <td>0</td>\n",
       "    </tr>\n",
       "  </tbody>\n",
       "</table>\n",
       "</div>"
      ],
      "text/plain": [
       "    RowNumber  CustomerId    Surname  CreditScore Geography  Gender  Age  \\\n",
       "0           1    15634602   Hargrave          619    France  Female   42   \n",
       "1           2    15647311       Hill          608     Spain  Female   41   \n",
       "2           3    15619304       Onio          502    France  Female   42   \n",
       "3           4    15701354       Boni          699    France  Female   39   \n",
       "4           5    15737888   Mitchell          850     Spain  Female   43   \n",
       "5           6    15574012        Chu          645     Spain    Male   44   \n",
       "6           7    15592531   Bartlett          822    France    Male   50   \n",
       "7           8    15656148     Obinna          376   Germany  Female   29   \n",
       "8           9    15792365         He          501    France    Male   44   \n",
       "9          10    15592389         H?          684    France    Male   27   \n",
       "10         11    15767821     Bearce          528    France    Male   31   \n",
       "11         12    15737173    Andrews          497     Spain    Male   24   \n",
       "12         13    15632264        Kay          476    France  Female   34   \n",
       "13         14    15691483       Chin          549    France  Female   25   \n",
       "14         15    15600882      Scott          635     Spain  Female   35   \n",
       "15         16    15643966    Goforth          616   Germany    Male   45   \n",
       "16         17    15737452      Romeo          653   Germany    Male   58   \n",
       "17         18    15788218  Henderson          549     Spain  Female   24   \n",
       "18         19    15661507    Muldrow          587     Spain    Male   45   \n",
       "19         20    15568982        Hao          726    France  Female   24   \n",
       "\n",
       "    Tenure    Balance  NumOfProducts  HasCrCard  IsActiveMember  \\\n",
       "0      2.0       0.00              1          1               1   \n",
       "1      1.0   83807.86              1          0               1   \n",
       "2      8.0  159660.80              3          1               0   \n",
       "3      1.0       0.00              2          0               0   \n",
       "4      2.0  125510.82              1          1               1   \n",
       "5      8.0  113755.78              2          1               0   \n",
       "6      7.0       0.00              2          1               1   \n",
       "7      4.0  115046.74              4          1               0   \n",
       "8      4.0  142051.07              2          0               1   \n",
       "9      2.0  134603.88              1          1               1   \n",
       "10     6.0  102016.72              2          0               0   \n",
       "11     3.0       0.00              2          1               0   \n",
       "12    10.0       0.00              2          1               0   \n",
       "13     5.0       0.00              2          0               0   \n",
       "14     7.0       0.00              2          1               1   \n",
       "15     3.0  143129.41              2          0               1   \n",
       "16     1.0  132602.88              1          1               0   \n",
       "17     9.0       0.00              2          1               1   \n",
       "18     6.0       0.00              1          0               0   \n",
       "19     6.0       0.00              2          1               1   \n",
       "\n",
       "    EstimatedSalary  Exited  \n",
       "0         101348.88       1  \n",
       "1         112542.58       0  \n",
       "2         113931.57       1  \n",
       "3          93826.63       0  \n",
       "4          79084.10       0  \n",
       "5         149756.71       1  \n",
       "6          10062.80       0  \n",
       "7         119346.88       1  \n",
       "8          74940.50       0  \n",
       "9          71725.73       0  \n",
       "10         80181.12       0  \n",
       "11         76390.01       0  \n",
       "12         26260.98       0  \n",
       "13        190857.79       0  \n",
       "14         65951.65       0  \n",
       "15         64327.26       0  \n",
       "16          5097.67       1  \n",
       "17         14406.41       0  \n",
       "18        158684.81       0  \n",
       "19         54724.03       0  "
      ]
     },
     "execution_count": 5,
     "metadata": {},
     "output_type": "execute_result"
    }
   ],
   "source": [
    "# посмотрим первые столбцы и строки \n",
    "data.head(20)"
   ]
  },
  {
   "cell_type": "markdown",
   "metadata": {},
   "source": [
    "Проверим строки с пропусками с данными по кол-ву времени, когда человек является клиентом банка"
   ]
  },
  {
   "cell_type": "code",
   "execution_count": 6,
   "metadata": {},
   "outputs": [
    {
     "data": {
      "text/html": [
       "<div>\n",
       "<style scoped>\n",
       "    .dataframe tbody tr th:only-of-type {\n",
       "        vertical-align: middle;\n",
       "    }\n",
       "\n",
       "    .dataframe tbody tr th {\n",
       "        vertical-align: top;\n",
       "    }\n",
       "\n",
       "    .dataframe thead th {\n",
       "        text-align: right;\n",
       "    }\n",
       "</style>\n",
       "<table border=\"1\" class=\"dataframe\">\n",
       "  <thead>\n",
       "    <tr style=\"text-align: right;\">\n",
       "      <th></th>\n",
       "      <th>RowNumber</th>\n",
       "      <th>CustomerId</th>\n",
       "      <th>Surname</th>\n",
       "      <th>CreditScore</th>\n",
       "      <th>Geography</th>\n",
       "      <th>Gender</th>\n",
       "      <th>Age</th>\n",
       "      <th>Tenure</th>\n",
       "      <th>Balance</th>\n",
       "      <th>NumOfProducts</th>\n",
       "      <th>HasCrCard</th>\n",
       "      <th>IsActiveMember</th>\n",
       "      <th>EstimatedSalary</th>\n",
       "      <th>Exited</th>\n",
       "    </tr>\n",
       "  </thead>\n",
       "  <tbody>\n",
       "    <tr>\n",
       "      <th>30</th>\n",
       "      <td>31</td>\n",
       "      <td>15589475</td>\n",
       "      <td>Azikiwe</td>\n",
       "      <td>591</td>\n",
       "      <td>Spain</td>\n",
       "      <td>Female</td>\n",
       "      <td>39</td>\n",
       "      <td>NaN</td>\n",
       "      <td>0.00</td>\n",
       "      <td>3</td>\n",
       "      <td>1</td>\n",
       "      <td>0</td>\n",
       "      <td>140469.38</td>\n",
       "      <td>1</td>\n",
       "    </tr>\n",
       "    <tr>\n",
       "      <th>48</th>\n",
       "      <td>49</td>\n",
       "      <td>15766205</td>\n",
       "      <td>Yin</td>\n",
       "      <td>550</td>\n",
       "      <td>Germany</td>\n",
       "      <td>Male</td>\n",
       "      <td>38</td>\n",
       "      <td>NaN</td>\n",
       "      <td>103391.38</td>\n",
       "      <td>1</td>\n",
       "      <td>0</td>\n",
       "      <td>1</td>\n",
       "      <td>90878.13</td>\n",
       "      <td>0</td>\n",
       "    </tr>\n",
       "    <tr>\n",
       "      <th>51</th>\n",
       "      <td>52</td>\n",
       "      <td>15768193</td>\n",
       "      <td>Trevisani</td>\n",
       "      <td>585</td>\n",
       "      <td>Germany</td>\n",
       "      <td>Male</td>\n",
       "      <td>36</td>\n",
       "      <td>NaN</td>\n",
       "      <td>146050.97</td>\n",
       "      <td>2</td>\n",
       "      <td>0</td>\n",
       "      <td>0</td>\n",
       "      <td>86424.57</td>\n",
       "      <td>0</td>\n",
       "    </tr>\n",
       "    <tr>\n",
       "      <th>53</th>\n",
       "      <td>54</td>\n",
       "      <td>15702298</td>\n",
       "      <td>Parkhill</td>\n",
       "      <td>655</td>\n",
       "      <td>Germany</td>\n",
       "      <td>Male</td>\n",
       "      <td>41</td>\n",
       "      <td>NaN</td>\n",
       "      <td>125561.97</td>\n",
       "      <td>1</td>\n",
       "      <td>0</td>\n",
       "      <td>0</td>\n",
       "      <td>164040.94</td>\n",
       "      <td>1</td>\n",
       "    </tr>\n",
       "    <tr>\n",
       "      <th>60</th>\n",
       "      <td>61</td>\n",
       "      <td>15651280</td>\n",
       "      <td>Hunter</td>\n",
       "      <td>742</td>\n",
       "      <td>Germany</td>\n",
       "      <td>Male</td>\n",
       "      <td>35</td>\n",
       "      <td>NaN</td>\n",
       "      <td>136857.00</td>\n",
       "      <td>1</td>\n",
       "      <td>0</td>\n",
       "      <td>0</td>\n",
       "      <td>84509.57</td>\n",
       "      <td>0</td>\n",
       "    </tr>\n",
       "    <tr>\n",
       "      <th>...</th>\n",
       "      <td>...</td>\n",
       "      <td>...</td>\n",
       "      <td>...</td>\n",
       "      <td>...</td>\n",
       "      <td>...</td>\n",
       "      <td>...</td>\n",
       "      <td>...</td>\n",
       "      <td>...</td>\n",
       "      <td>...</td>\n",
       "      <td>...</td>\n",
       "      <td>...</td>\n",
       "      <td>...</td>\n",
       "      <td>...</td>\n",
       "      <td>...</td>\n",
       "    </tr>\n",
       "    <tr>\n",
       "      <th>9944</th>\n",
       "      <td>9945</td>\n",
       "      <td>15703923</td>\n",
       "      <td>Cameron</td>\n",
       "      <td>744</td>\n",
       "      <td>Germany</td>\n",
       "      <td>Male</td>\n",
       "      <td>41</td>\n",
       "      <td>NaN</td>\n",
       "      <td>190409.34</td>\n",
       "      <td>2</td>\n",
       "      <td>1</td>\n",
       "      <td>1</td>\n",
       "      <td>138361.48</td>\n",
       "      <td>0</td>\n",
       "    </tr>\n",
       "    <tr>\n",
       "      <th>9956</th>\n",
       "      <td>9957</td>\n",
       "      <td>15707861</td>\n",
       "      <td>Nucci</td>\n",
       "      <td>520</td>\n",
       "      <td>France</td>\n",
       "      <td>Female</td>\n",
       "      <td>46</td>\n",
       "      <td>NaN</td>\n",
       "      <td>85216.61</td>\n",
       "      <td>1</td>\n",
       "      <td>1</td>\n",
       "      <td>0</td>\n",
       "      <td>117369.52</td>\n",
       "      <td>1</td>\n",
       "    </tr>\n",
       "    <tr>\n",
       "      <th>9964</th>\n",
       "      <td>9965</td>\n",
       "      <td>15642785</td>\n",
       "      <td>Douglas</td>\n",
       "      <td>479</td>\n",
       "      <td>France</td>\n",
       "      <td>Male</td>\n",
       "      <td>34</td>\n",
       "      <td>NaN</td>\n",
       "      <td>117593.48</td>\n",
       "      <td>2</td>\n",
       "      <td>0</td>\n",
       "      <td>0</td>\n",
       "      <td>113308.29</td>\n",
       "      <td>0</td>\n",
       "    </tr>\n",
       "    <tr>\n",
       "      <th>9985</th>\n",
       "      <td>9986</td>\n",
       "      <td>15586914</td>\n",
       "      <td>Nepean</td>\n",
       "      <td>659</td>\n",
       "      <td>France</td>\n",
       "      <td>Male</td>\n",
       "      <td>36</td>\n",
       "      <td>NaN</td>\n",
       "      <td>123841.49</td>\n",
       "      <td>2</td>\n",
       "      <td>1</td>\n",
       "      <td>0</td>\n",
       "      <td>96833.00</td>\n",
       "      <td>0</td>\n",
       "    </tr>\n",
       "    <tr>\n",
       "      <th>9999</th>\n",
       "      <td>10000</td>\n",
       "      <td>15628319</td>\n",
       "      <td>Walker</td>\n",
       "      <td>792</td>\n",
       "      <td>France</td>\n",
       "      <td>Female</td>\n",
       "      <td>28</td>\n",
       "      <td>NaN</td>\n",
       "      <td>130142.79</td>\n",
       "      <td>1</td>\n",
       "      <td>1</td>\n",
       "      <td>0</td>\n",
       "      <td>38190.78</td>\n",
       "      <td>0</td>\n",
       "    </tr>\n",
       "  </tbody>\n",
       "</table>\n",
       "<p>909 rows × 14 columns</p>\n",
       "</div>"
      ],
      "text/plain": [
       "      RowNumber  CustomerId    Surname  CreditScore Geography  Gender  Age  \\\n",
       "30           31    15589475    Azikiwe          591     Spain  Female   39   \n",
       "48           49    15766205        Yin          550   Germany    Male   38   \n",
       "51           52    15768193  Trevisani          585   Germany    Male   36   \n",
       "53           54    15702298   Parkhill          655   Germany    Male   41   \n",
       "60           61    15651280     Hunter          742   Germany    Male   35   \n",
       "...         ...         ...        ...          ...       ...     ...  ...   \n",
       "9944       9945    15703923    Cameron          744   Germany    Male   41   \n",
       "9956       9957    15707861      Nucci          520    France  Female   46   \n",
       "9964       9965    15642785    Douglas          479    France    Male   34   \n",
       "9985       9986    15586914     Nepean          659    France    Male   36   \n",
       "9999      10000    15628319     Walker          792    France  Female   28   \n",
       "\n",
       "      Tenure    Balance  NumOfProducts  HasCrCard  IsActiveMember  \\\n",
       "30       NaN       0.00              3          1               0   \n",
       "48       NaN  103391.38              1          0               1   \n",
       "51       NaN  146050.97              2          0               0   \n",
       "53       NaN  125561.97              1          0               0   \n",
       "60       NaN  136857.00              1          0               0   \n",
       "...      ...        ...            ...        ...             ...   \n",
       "9944     NaN  190409.34              2          1               1   \n",
       "9956     NaN   85216.61              1          1               0   \n",
       "9964     NaN  117593.48              2          0               0   \n",
       "9985     NaN  123841.49              2          1               0   \n",
       "9999     NaN  130142.79              1          1               0   \n",
       "\n",
       "      EstimatedSalary  Exited  \n",
       "30          140469.38       1  \n",
       "48           90878.13       0  \n",
       "51           86424.57       0  \n",
       "53          164040.94       1  \n",
       "60           84509.57       0  \n",
       "...               ...     ...  \n",
       "9944        138361.48       0  \n",
       "9956        117369.52       1  \n",
       "9964        113308.29       0  \n",
       "9985         96833.00       0  \n",
       "9999         38190.78       0  \n",
       "\n",
       "[909 rows x 14 columns]"
      ]
     },
     "execution_count": 6,
     "metadata": {},
     "output_type": "execute_result"
    }
   ],
   "source": [
    "data[data['Tenure'].isnull() == True]"
   ]
  },
  {
   "cell_type": "markdown",
   "metadata": {},
   "source": [
    "Признаки различны, общую систему прпусков выявить сложно. 10% пропусков. В данном случае удалять не нужно, 0 значениями - новый клиент банка."
   ]
  },
  {
   "cell_type": "code",
   "execution_count": 7,
   "metadata": {},
   "outputs": [],
   "source": [
    "data['Tenure'] = data['Tenure'].fillna(0).astype('int64')"
   ]
  },
  {
   "cell_type": "markdown",
   "metadata": {},
   "source": [
    "Для дальнейшей работы разберемся с названиями столбцов. Переименуем и приведем к нижнему регистру."
   ]
  },
  {
   "cell_type": "code",
   "execution_count": 8,
   "metadata": {},
   "outputs": [
    {
     "data": {
      "text/plain": [
       "Index(['RowNumber', 'CustomerId', 'Surname', 'CreditScore', 'Geography',\n",
       "       'Gender', 'Age', 'Tenure', 'Balance', 'NumOfProducts', 'HasCrCard',\n",
       "       'IsActiveMember', 'EstimatedSalary', 'Exited'],\n",
       "      dtype='object')"
      ]
     },
     "execution_count": 8,
     "metadata": {},
     "output_type": "execute_result"
    }
   ],
   "source": [
    "data.columns"
   ]
  },
  {
   "cell_type": "code",
   "execution_count": 9,
   "metadata": {},
   "outputs": [],
   "source": [
    "data = data.rename(columns={'RowNumber':'row_number', 'CustomerId':'customer_id', 'CreditScore':'credit_score', 'NumOfProducts':'num_of_products', 'HasCrCard':'has_cr_card', 'IsActiveMember':'is_active_member', 'EstimatedSalary':'estimated_salary'})"
   ]
  },
  {
   "cell_type": "code",
   "execution_count": 10,
   "metadata": {},
   "outputs": [],
   "source": [
    "data.columns = data.columns.str.lower()"
   ]
  },
  {
   "cell_type": "code",
   "execution_count": 11,
   "metadata": {},
   "outputs": [
    {
     "data": {
      "text/plain": [
       "Index(['row_number', 'customer_id', 'surname', 'credit_score', 'geography',\n",
       "       'gender', 'age', 'tenure', 'balance', 'num_of_products', 'has_cr_card',\n",
       "       'is_active_member', 'estimated_salary', 'exited'],\n",
       "      dtype='object')"
      ]
     },
     "execution_count": 11,
     "metadata": {},
     "output_type": "execute_result"
    }
   ],
   "source": [
    "data.columns"
   ]
  },
  {
   "cell_type": "markdown",
   "metadata": {},
   "source": [
    "Удалим данные с фамилией, индексом строки, идентификатором. Эти данные нам не нужны. "
   ]
  },
  {
   "cell_type": "code",
   "execution_count": 12,
   "metadata": {},
   "outputs": [],
   "source": [
    "data = data.drop(['row_number', 'customer_id', 'surname'], axis = 1)"
   ]
  },
  {
   "cell_type": "raw",
   "metadata": {},
   "source": [
    "# data.drop(columns='surname', inplace=True)"
   ]
  },
  {
   "cell_type": "raw",
   "metadata": {},
   "source": [
    "# data.drop(columns='row_number', inplace=True)\n",
    "# data.drop(columns='customer_id', inplace=True)"
   ]
  },
  {
   "cell_type": "markdown",
   "metadata": {},
   "source": [
    "## Исследование задачи"
   ]
  },
  {
   "cell_type": "markdown",
   "metadata": {},
   "source": [
    "В данных есть категориальные признаки. Преобразовать категориальные признаки в численные поможет техника прямого кодирования, или отображения One-Hot Encoding. Применим получим новые признаки дамми-переменные, или дамми-признаки."
   ]
  },
  {
   "cell_type": "code",
   "execution_count": 13,
   "metadata": {},
   "outputs": [],
   "source": [
    "# Методом get_dummies уберем категориальные признаки, учтем ловушки, используем drop_first=True\n",
    "data_ohe=pd.get_dummies(data, drop_first=True)"
   ]
  },
  {
   "cell_type": "code",
   "execution_count": 14,
   "metadata": {},
   "outputs": [
    {
     "data": {
      "text/html": [
       "<div>\n",
       "<style scoped>\n",
       "    .dataframe tbody tr th:only-of-type {\n",
       "        vertical-align: middle;\n",
       "    }\n",
       "\n",
       "    .dataframe tbody tr th {\n",
       "        vertical-align: top;\n",
       "    }\n",
       "\n",
       "    .dataframe thead th {\n",
       "        text-align: right;\n",
       "    }\n",
       "</style>\n",
       "<table border=\"1\" class=\"dataframe\">\n",
       "  <thead>\n",
       "    <tr style=\"text-align: right;\">\n",
       "      <th></th>\n",
       "      <th>credit_score</th>\n",
       "      <th>age</th>\n",
       "      <th>tenure</th>\n",
       "      <th>balance</th>\n",
       "      <th>num_of_products</th>\n",
       "      <th>has_cr_card</th>\n",
       "      <th>is_active_member</th>\n",
       "      <th>estimated_salary</th>\n",
       "      <th>exited</th>\n",
       "      <th>geography_Germany</th>\n",
       "      <th>geography_Spain</th>\n",
       "      <th>gender_Male</th>\n",
       "    </tr>\n",
       "  </thead>\n",
       "  <tbody>\n",
       "    <tr>\n",
       "      <th>0</th>\n",
       "      <td>619</td>\n",
       "      <td>42</td>\n",
       "      <td>2</td>\n",
       "      <td>0.00</td>\n",
       "      <td>1</td>\n",
       "      <td>1</td>\n",
       "      <td>1</td>\n",
       "      <td>101348.88</td>\n",
       "      <td>1</td>\n",
       "      <td>0</td>\n",
       "      <td>0</td>\n",
       "      <td>0</td>\n",
       "    </tr>\n",
       "    <tr>\n",
       "      <th>1</th>\n",
       "      <td>608</td>\n",
       "      <td>41</td>\n",
       "      <td>1</td>\n",
       "      <td>83807.86</td>\n",
       "      <td>1</td>\n",
       "      <td>0</td>\n",
       "      <td>1</td>\n",
       "      <td>112542.58</td>\n",
       "      <td>0</td>\n",
       "      <td>0</td>\n",
       "      <td>1</td>\n",
       "      <td>0</td>\n",
       "    </tr>\n",
       "    <tr>\n",
       "      <th>2</th>\n",
       "      <td>502</td>\n",
       "      <td>42</td>\n",
       "      <td>8</td>\n",
       "      <td>159660.80</td>\n",
       "      <td>3</td>\n",
       "      <td>1</td>\n",
       "      <td>0</td>\n",
       "      <td>113931.57</td>\n",
       "      <td>1</td>\n",
       "      <td>0</td>\n",
       "      <td>0</td>\n",
       "      <td>0</td>\n",
       "    </tr>\n",
       "    <tr>\n",
       "      <th>3</th>\n",
       "      <td>699</td>\n",
       "      <td>39</td>\n",
       "      <td>1</td>\n",
       "      <td>0.00</td>\n",
       "      <td>2</td>\n",
       "      <td>0</td>\n",
       "      <td>0</td>\n",
       "      <td>93826.63</td>\n",
       "      <td>0</td>\n",
       "      <td>0</td>\n",
       "      <td>0</td>\n",
       "      <td>0</td>\n",
       "    </tr>\n",
       "    <tr>\n",
       "      <th>4</th>\n",
       "      <td>850</td>\n",
       "      <td>43</td>\n",
       "      <td>2</td>\n",
       "      <td>125510.82</td>\n",
       "      <td>1</td>\n",
       "      <td>1</td>\n",
       "      <td>1</td>\n",
       "      <td>79084.10</td>\n",
       "      <td>0</td>\n",
       "      <td>0</td>\n",
       "      <td>1</td>\n",
       "      <td>0</td>\n",
       "    </tr>\n",
       "  </tbody>\n",
       "</table>\n",
       "</div>"
      ],
      "text/plain": [
       "   credit_score  age  tenure    balance  num_of_products  has_cr_card  \\\n",
       "0           619   42       2       0.00                1            1   \n",
       "1           608   41       1   83807.86                1            0   \n",
       "2           502   42       8  159660.80                3            1   \n",
       "3           699   39       1       0.00                2            0   \n",
       "4           850   43       2  125510.82                1            1   \n",
       "\n",
       "   is_active_member  estimated_salary  exited  geography_Germany  \\\n",
       "0                 1         101348.88       1                  0   \n",
       "1                 1         112542.58       0                  0   \n",
       "2                 0         113931.57       1                  0   \n",
       "3                 0          93826.63       0                  0   \n",
       "4                 1          79084.10       0                  0   \n",
       "\n",
       "   geography_Spain  gender_Male  \n",
       "0                0            0  \n",
       "1                1            0  \n",
       "2                0            0  \n",
       "3                0            0  \n",
       "4                1            0  "
      ]
     },
     "execution_count": 14,
     "metadata": {},
     "output_type": "execute_result"
    }
   ],
   "source": [
    "data_ohe.head()"
   ]
  },
  {
   "cell_type": "code",
   "execution_count": 15,
   "metadata": {},
   "outputs": [],
   "source": [
    "# Приведем в порядок названия колонок\n",
    "data_ohe = data_ohe.rename(columns={'geography_Germany':'geography_germany', 'geography_Spain':'geography_spain', 'gender_Male':'gender_male'})"
   ]
  },
  {
   "cell_type": "markdown",
   "metadata": {},
   "source": [
    "Зададим целевой признак - Exited — факт ухода клиента."
   ]
  },
  {
   "cell_type": "code",
   "execution_count": 16,
   "metadata": {},
   "outputs": [],
   "source": [
    "target = data_ohe['exited']\n",
    "features = data_ohe.drop(['exited'], axis=1)"
   ]
  },
  {
   "cell_type": "markdown",
   "metadata": {},
   "source": [
    "Разделим данные на три части: обучающую, валидационную и тестовую. Размеры тестового и валидационного наборов обычно равны. Исходные данные разделим в соотношении 3:1:1. На обучающую выборку и тестовую/валидационную в соотношении 60%:40%. Выведем размеры."
   ]
  },
  {
   "cell_type": "code",
   "execution_count": 17,
   "metadata": {},
   "outputs": [
    {
     "name": "stdout",
     "output_type": "stream",
     "text": [
      "(6000, 11) (2000, 11) (2000, 11)\n",
      "(6000,) (2000,) (2000,)\n"
     ]
    }
   ],
   "source": [
    "features_train, features_valid, target_train, target_valid = train_test_split(features, target, test_size=0.4, random_state=12345)\n",
    "features_valid, features_test, target_valid, target_test = train_test_split(features_valid, target_valid, test_size=0.5, random_state=12345)\n",
    "print(features_train.shape, features_valid.shape, features_test.shape)\n",
    "print(target_train.shape, target_valid.shape, target_test.shape)"
   ]
  },
  {
   "cell_type": "markdown",
   "metadata": {},
   "source": [
    "Чтобы алгоритмам было легче обучать модели, признаки приводятся к одному масштабу. В столбцах также есть разбросы в числовых данных, стандартизируем их, масштабируя признаки для дальнейшей работы."
   ]
  },
  {
   "cell_type": "code",
   "execution_count": 53,
   "metadata": {},
   "outputs": [
    {
     "name": "stdout",
     "output_type": "stream",
     "text": [
      "      credit_score       age    tenure   balance  num_of_products  \\\n",
      "7479     -0.886751 -0.373192  1.104696  1.232271        -0.891560   \n",
      "3411      0.608663 -0.183385  1.104696  0.600563        -0.891560   \n",
      "6027      2.052152  0.480939 -0.503694  1.027098         0.830152   \n",
      "1247     -1.457915 -1.417129  0.461340 -1.233163         0.830152   \n",
      "3716      0.130961 -1.132419 -0.825373  1.140475        -0.891560   \n",
      "\n",
      "      has_cr_card  is_active_member  estimated_salary  geography_germany  \\\n",
      "7479            1                 0         -0.187705                  0   \n",
      "3411            0                 0         -0.333945                  0   \n",
      "6027            0                 1          1.503095                  1   \n",
      "1247            1                 0         -1.071061                  0   \n",
      "3716            0                 0          1.524268                  1   \n",
      "\n",
      "      geography_spain  gender_male  \n",
      "7479                1            1  \n",
      "3411                0            0  \n",
      "6027                0            1  \n",
      "1247                0            1  \n",
      "3716                0            0  \n"
     ]
    }
   ],
   "source": [
    "# Применим StandardScaler - отдельную структуру для стандартизации данных\n",
    "scaler = StandardScaler()\n",
    "numeric = ['credit_score', 'age', 'tenure', 'balance', 'num_of_products', 'estimated_salary']\n",
    "scaler.fit(features_train[numeric])\n",
    "\n",
    "pd.options.mode.chained_assignment = None\n",
    "\n",
    "#  Преобразуем обучающую, валидационную, тестовую выборки функцией transform()\n",
    "features_train[numeric] = scaler.transform(features_train[numeric])\n",
    "features_valid[numeric] = scaler.transform(features_valid[numeric])\n",
    "features_test[numeric] = scaler.transform(features_test[numeric])\n",
    "print(features_train.head())"
   ]
  },
  {
   "cell_type": "markdown",
   "metadata": {},
   "source": [
    "Посмотрим баланс классов в целевом признаке - как часто в целевом признаке встречается класс «1» или «0»."
   ]
  },
  {
   "cell_type": "code",
   "execution_count": 54,
   "metadata": {},
   "outputs": [
    {
     "name": "stdout",
     "output_type": "stream",
     "text": [
      "0    0.7963\n",
      "1    0.2037\n",
      "Name: exited, dtype: float64\n"
     ]
    }
   ],
   "source": [
    "class_frequency = data['exited'].value_counts(normalize=True)\n",
    "print(class_frequency)"
   ]
  },
  {
   "cell_type": "code",
   "execution_count": 55,
   "metadata": {},
   "outputs": [
    {
     "data": {
      "image/png": "[encoded data removed]",
      "text/plain": [
       "<Figure size 504x360 with 1 Axes>"
      ]
     },
     "metadata": {
      "needs_background": "light"
     },
     "output_type": "display_data"
    }
   ],
   "source": [
    "ax = data['exited'].value_counts().plot(kind='bar', figsize=(7, 5),\n",
    "                                                  color=\"indigo\", fontsize=15);\n",
    "ax.set_alpha(0.9)\n",
    "ax.set_title(\"Баланс классов\", fontsize=12)\n",
    "ax.set_ylabel(\"Количество\", fontsize=12);\n",
    "\n",
    "totals = []\n",
    "\n",
    "# find the values and append to list\n",
    "for i in ax.patches:\n",
    "    totals.append(i.get_height())\n",
    "\n",
    "# set individual bar lables using above list\n",
    "total = sum(totals)\n",
    "\n",
    "# set individual bar lables using above list\n",
    "for i in ax.patches:\n",
    "    # get_x pulls left or right; get_height pushes up or down\n",
    "    ax.text(i.get_x()+.17, i.get_height()-1000,  \\\n",
    "            str(round((i.get_height()/total)*100))+'%', fontsize=15,\n",
    "                color='white')"
   ]
  },
  {
   "cell_type": "raw",
   "metadata": {},
   "source": [
    "# class_frequency.plot(kind='bar')"
   ]
  },
  {
   "cell_type": "markdown",
   "metadata": {},
   "source": [
    "Классы несбалансированны, видим, что их соотношение далеко от 1:1, в данном случае - соотношение классов примерно 1:4. Учтем в 3-м этапе."
   ]
  },
  {
   "cell_type": "markdown",
   "metadata": {},
   "source": [
    "Перейдем к оценке качества моделей. Метрики полноты и точности оценивают качество прогноза положительного класса с разных позиций. Recall описывает, как хорошо модель разобралась в особенностях этого класса и распознала его. Precision выявляет, не переусердствует ли модель, присваивая положительные метки.\n",
    "Важны обе метрики. Контролировать их параллельно поможет — F1-мера. Изучим показатели на разных моделях без учета дисбаланса классов."
   ]
  },
  {
   "cell_type": "markdown",
   "metadata": {},
   "source": [
    "**Модель логистической регрессии** "
   ]
  },
  {
   "cell_type": "code",
   "execution_count": 56,
   "metadata": {},
   "outputs": [
    {
     "name": "stdout",
     "output_type": "stream",
     "text": [
      "F1: 0.33389544688026984\n",
      "CPU times: user 102 ms, sys: 272 ms, total: 374 ms\n",
      "Wall time: 263 ms\n"
     ]
    }
   ],
   "source": [
    "%%time\n",
    "\n",
    "model_logistic =  LogisticRegression(random_state=12345, solver='lbfgs', max_iter=100)\n",
    "model_logistic.fit(features_train, target_train)\n",
    "predictions_valid = model_logistic.predict(features_valid)\n",
    "print(\"F1:\", f1_score(target_valid, predictions_valid))"
   ]
  },
  {
   "cell_type": "markdown",
   "metadata": {},
   "source": [
    "**Дерево решений**"
   ]
  },
  {
   "cell_type": "code",
   "execution_count": 57,
   "metadata": {},
   "outputs": [
    {
     "name": "stderr",
     "output_type": "stream",
     "text": [
      "100%|██████████| 8/8 [00:08<00:00,  1.00s/it]\n"
     ]
    },
    {
     "name": "stdout",
     "output_type": "stream",
     "text": [
      "max_depth = 2 : 0.5217391304347825\n",
      "max_depth = 3 : 0.4234875444839857\n",
      "max_depth = 4 : 0.5528700906344411\n",
      "max_depth = 5 : 0.5406249999999999\n",
      "max_depth = 6 : 0.5696969696969697\n",
      "max_depth = 7 : 0.5320813771517998\n",
      "max_depth = 8 : 0.5449010654490106\n",
      "max_depth = 9 : 0.5786516853932585\n",
      "max_depth = 10 : 0.528995756718529\n",
      "max_depth = 11 : 0.5201072386058981\n",
      "max_depth = 12 : 0.5013054830287207\n",
      "max_depth = 13 : 0.5259067357512954\n",
      "max_depth = 14 : 0.48391248391248387\n",
      "max_depth = 15 : 0.5025125628140703\n"
     ]
    }
   ],
   "source": [
    "import time\n",
    "from tqdm import tqdm\n",
    "\n",
    "mylist = [1,2,3,4,5,6,7,8]\n",
    "\n",
    "for i in tqdm(mylist):\n",
    "    time.sleep(1)\n",
    "\n",
    "for depth in range(2, 16):\n",
    "    model_tree = DecisionTreeClassifier(random_state=12345, max_depth=depth)\n",
    "    model_tree.fit(features_train, target_train)\n",
    "    predictions_valid = model_tree.predict(features_valid) \n",
    "    print(\"max_depth =\", depth, \": \", end='')\n",
    "    print(f1_score(target_valid, predictions_valid))"
   ]
  },
  {
   "cell_type": "markdown",
   "metadata": {},
   "source": [
    "<div style=\"border:solid purple 5px; padding: 20px\"> \n",
    "<h2 align=\"center\"> Рубрика «Питонячий лайфхакер» <a class=\"tocSkip\"> </h2>\n",
    "\n",
    "<h3> Индикаторы состояния: progress и tqdm <a class=\"tocSkip\"> </h3>\n",
    "\n",
    "Как перестать беспокоиться о том, не завис ли скрипт? Вы можете создавать свои индикаторы состояния. Это весьма увлекательное занятие. Но делать то же самое с [progress](https://pypi.org/project/progress/) (ее обычно используют для работы из консоли) или [tqdm](https://pypi.org/project/tqdm/) (отлично подойдет для тетрадок) куда быстрее и надежнее.\n",
    "\n",
    "Обычно я использую эти две библиотеки, но вот [здесь](https://habr.com/ru/post/483400/) ты можешь почитать про альтернативные варианты\n",
    "\n",
    "![](https://i.ibb.co/B4SDm8Y/68747470733a2f2f7261772e6769746875622e636f6d2f7665726967616b2f70726f67726573732f6d61737465722f64656d.gif)"
   ]
  },
  {
   "cell_type": "markdown",
   "metadata": {},
   "source": [
    "Максимальная доля правильных ответов 0.58 при max_depth = 9. Лучший вариант - при глубине дерева 9 доля правильных ответов составляет 58%."
   ]
  },
  {
   "cell_type": "markdown",
   "metadata": {},
   "source": [
    "**Случайный лес** "
   ]
  },
  {
   "cell_type": "code",
   "execution_count": 58,
   "metadata": {},
   "outputs": [
    {
     "name": "stdout",
     "output_type": "stream",
     "text": [
      "F1: 0.5786350148367952\n",
      "CPU times: user 804 ms, sys: 3.95 ms, total: 808 ms\n",
      "Wall time: 814 ms\n"
     ]
    }
   ],
   "source": [
    "%%time\n",
    "\n",
    "model_forest = RandomForestClassifier(random_state=12345)\n",
    "model_forest.fit(features_train, target_train)\n",
    "predicted_valid = model_forest.predict(features_valid) \n",
    "print(\"F1:\", f1_score(target_valid, predicted_valid))"
   ]
  },
  {
   "cell_type": "raw",
   "metadata": {},
   "source": [
    "f1_score_list=0\n",
    "estimators_list=0\n",
    "depth_list=0\n",
    "for es in range(10, 100, 10): \n",
    "    for depth in range(2,20):\n",
    "        model_forest  = RandomForestClassifier(random_state=12345, n_estimators=es, max_depth=depth)\n",
    "        model_forest.fit(features_train, target_train)\n",
    "        predictions_valid = model_forest .predict(features_valid)\n",
    "        f1 = f1_score(target_valid, predictions_valid)\n",
    "        if f1 > f1_score_list:\n",
    "            f1_score_list=f1\n",
    "            estimators_list=es\n",
    "            depth_list=depth\n",
    "print(\"n_estimators:\", estimators_list, \"depth:\", depth_list, \"f1\", f1_score_list)"
   ]
  },
  {
   "cell_type": "markdown",
   "metadata": {},
   "source": [
    "ИТОГ без учета дисбаланса классов:\n",
    "- Logistic Regression - F1 0.33. \n",
    "- Decision Tree Classifier - Лучшая F1 0.578 cо значением глубины 9.\n",
    "- Random Forest Classifier - F1 0.578.\n",
    "При сравнении моделей, без дополнительных гиперпараметров, одинаковые результаты дают алгоритмы случайного леса и дерева решений. "
   ]
  },
  {
   "cell_type": "markdown",
   "metadata": {},
   "source": [
    "## Борьба с дисбалансом"
   ]
  },
  {
   "cell_type": "markdown",
   "metadata": {},
   "source": [
    "Сделаем вес классов сбалансированным. Посмотрим, как изменится значение F1-меры."
   ]
  },
  {
   "cell_type": "code",
   "execution_count": 59,
   "metadata": {},
   "outputs": [
    {
     "name": "stdout",
     "output_type": "stream",
     "text": [
      "F1: 0.4888888888888888\n"
     ]
    }
   ],
   "source": [
    "model_balanced = LogisticRegression(random_state=12345, solver='liblinear', class_weight='balanced')\n",
    "model_balanced.fit(features_train, target_train)\n",
    "predictions_valid = model_balanced.predict(features_valid)\n",
    "print(\"F1:\", f1_score(target_valid, predictions_valid))"
   ]
  },
  {
   "cell_type": "code",
   "execution_count": 60,
   "metadata": {},
   "outputs": [
    {
     "name": "stdout",
     "output_type": "stream",
     "text": [
      "max_depth = 2 : 0.541015625\n",
      "max_depth = 3 : 0.541015625\n",
      "max_depth = 4 : 0.5277777777777778\n",
      "max_depth = 5 : 0.5963791267305644\n",
      "max_depth = 6 : 0.5581835383159887\n",
      "max_depth = 7 : 0.5559999999999999\n",
      "max_depth = 8 : 0.5401174168297456\n",
      "max_depth = 9 : 0.5338567222767419\n",
      "max_depth = 10 : 0.5163776493256262\n",
      "max_depth = 11 : 0.5316973415132925\n",
      "max_depth = 12 : 0.5097636176772867\n",
      "max_depth = 13 : 0.49891067538126366\n",
      "max_depth = 14 : 0.4845132743362832\n",
      "max_depth = 15 : 0.47410817031070196\n"
     ]
    }
   ],
   "source": [
    "for depth in range(2, 16):\n",
    "    model_tree_balanced = DecisionTreeClassifier(random_state=12345, max_depth=depth, class_weight='balanced')\n",
    "    model_tree_balanced.fit(features_train, target_train)\n",
    "    predictions_valid = model_tree_balanced.predict(features_valid) \n",
    "    print(\"max_depth =\", depth, \": \", end='')\n",
    "    print(f1_score(target_valid, predictions_valid))"
   ]
  },
  {
   "cell_type": "code",
   "execution_count": 26,
   "metadata": {},
   "outputs": [
    {
     "name": "stdout",
     "output_type": "stream",
     "text": [
      "F1: 0.5609756097560976\n"
     ]
    }
   ],
   "source": [
    "model_forest_balanced = RandomForestClassifier(random_state=12345, class_weight='balanced')\n",
    "model_forest_balanced.fit(features_train, target_train)\n",
    "predicted_valid = model_forest_balanced.predict(features_valid) \n",
    "print(\"F1:\", f1_score(target_valid, predicted_valid))"
   ]
  },
  {
   "cell_type": "code",
   "execution_count": 61,
   "metadata": {},
   "outputs": [
    {
     "name": "stdout",
     "output_type": "stream",
     "text": [
      "n_estimators: 50 depth: 8 f1 0.631236442516269\n"
     ]
    }
   ],
   "source": [
    "f1_score_list=0\n",
    "estimators_list=0\n",
    "depth_list=0\n",
    "for es in range(10, 100, 10): \n",
    "    for depth in range(2,30):\n",
    "        model_forest_balanced  = RandomForestClassifier(random_state=12345, n_estimators=es, max_depth=depth, class_weight='balanced')\n",
    "        model_forest_balanced.fit(features_train, target_train)\n",
    "        predictions_valid = model_forest_balanced .predict(features_valid)\n",
    "        f1 = f1_score(target_valid, predictions_valid)\n",
    "        if f1 > f1_score_list:\n",
    "            f1_score_list=f1\n",
    "            estimators_list=es\n",
    "            depth_list=depth\n",
    "print(\"n_estimators:\", estimators_list, \"depth:\", depth_list, \"f1\", f1_score_list)"
   ]
  },
  {
   "cell_type": "code",
   "execution_count": 95,
   "metadata": {},
   "outputs": [
    {
     "name": "stdout",
     "output_type": "stream",
     "text": [
      "f1: 0.4779220779220779\n"
     ]
    }
   ],
   "source": [
    "model_forest_balanced  = RandomForestClassifier(random_state=12345, n_estimators=es, max_depth=depth, class_weight='balanced')\n",
    "model_forest_balanced.fit(features_train, target_train)\n",
    "predicted_test = model.predict(features_test)\n",
    "print('f1:', f1_score(target_test, predicted_test))"
   ]
  },
  {
   "cell_type": "markdown",
   "metadata": {},
   "source": [
    "Воспользуемся функцией Upsampling и увеличим количество клиентов оттока. Обучим на новых данных модели, найдем значение F1-меры."
   ]
  },
  {
   "cell_type": "code",
   "execution_count": 65,
   "metadata": {},
   "outputs": [
    {
     "name": "stdout",
     "output_type": "stream",
     "text": [
      "0    4804\n",
      "1    4784\n",
      "Name: exited, dtype: int64\n"
     ]
    }
   ],
   "source": [
    "# Применим метод, разделим обучающую выборку на отрицательные и положительные объекты. продублируем объекты положительного класса и объединим их с объектами отрицательного класса\n",
    "\n",
    "def upsample(features, target, repeat):\n",
    "    features_zeros = features[target == 0]\n",
    "    features_ones = features[target == 1]\n",
    "    target_zeros = target[target == 0]\n",
    "    target_ones = target[target == 1]\n",
    "\n",
    "    features_upsampled = pd.concat([features_zeros] + [features_ones] * repeat)\n",
    "    target_upsampled = pd.concat([target_zeros] + [target_ones] * repeat)\n",
    "    \n",
    "    features_upsampled, target_upsampled = shuffle(\n",
    "        features_upsampled, target_upsampled, random_state=12345)\n",
    "    \n",
    "    return features_upsampled, target_upsampled\n",
    "\n",
    "features_upsampled, target_upsampled = upsample(features_train, target_train, 4)\n",
    "\n",
    "print(target_upsampled.value_counts())"
   ]
  },
  {
   "cell_type": "markdown",
   "metadata": {},
   "source": [
    "**Логистическая регрессия** "
   ]
  },
  {
   "cell_type": "code",
   "execution_count": 74,
   "metadata": {},
   "outputs": [
    {
     "name": "stdout",
     "output_type": "stream",
     "text": [
      "F1: 0.4888888888888888\n",
      "CPU times: user 38.8 ms, sys: 4.11 ms, total: 43 ms\n",
      "Wall time: 26.2 ms\n"
     ]
    }
   ],
   "source": [
    "%%time\n",
    "\n",
    "model = LogisticRegression(random_state=12345, solver='liblinear')\n",
    "model.fit(features_upsampled, target_upsampled)\n",
    "predicted_valid = model.predict(features_valid)\n",
    "print(\"F1:\", f1_score(target_valid, predicted_valid))"
   ]
  },
  {
   "cell_type": "markdown",
   "metadata": {},
   "source": [
    "**Дерево решений** "
   ]
  },
  {
   "cell_type": "code",
   "execution_count": 75,
   "metadata": {},
   "outputs": [
    {
     "name": "stdout",
     "output_type": "stream",
     "text": [
      "F1: 0.4575645756457565\n",
      "CPU times: user 38.4 ms, sys: 15 µs, total: 38.4 ms\n",
      "Wall time: 36.9 ms\n"
     ]
    }
   ],
   "source": [
    "%%time\n",
    "\n",
    "model_tree = DecisionTreeClassifier(random_state=12345, max_depth=depth)\n",
    "model_tree.fit(features_upsampled, target_upsampled)\n",
    "predicted_valid = model_tree.predict(features_valid) \n",
    "print(\"F1:\", f1_score(target_valid, predicted_valid))"
   ]
  },
  {
   "cell_type": "markdown",
   "metadata": {},
   "source": [
    "**Случайный лес** "
   ]
  },
  {
   "cell_type": "code",
   "execution_count": 76,
   "metadata": {},
   "outputs": [
    {
     "name": "stdout",
     "output_type": "stream",
     "text": [
      "n_estimators: 60 depth: 13 f1 0.626829268292683\n",
      "CPU times: user 1min 39s, sys: 240 ms, total: 1min 39s\n",
      "Wall time: 1min 40s\n"
     ]
    }
   ],
   "source": [
    "%%time\n",
    "\n",
    "f1_score_list=0\n",
    "estimators_list=0\n",
    "depth_list=0\n",
    "for es in range(10, 100, 10): \n",
    "    for depth in range(2,30):\n",
    "        model_forest  = RandomForestClassifier(random_state=12345, n_estimators=es, max_depth=depth)\n",
    "        model_forest.fit(features_upsampled, target_upsampled)\n",
    "        predictions_valid = model_forest.predict(features_valid)\n",
    "        f1 = f1_score(target_valid, predictions_valid)\n",
    "        if f1 > f1_score_list:\n",
    "            f1_score_list=f1\n",
    "            estimators_list=es\n",
    "            depth_list=depth\n",
    "print(\"n_estimators:\", estimators_list, \"depth:\", depth_list, \"f1\", f1_score_list)"
   ]
  },
  {
   "cell_type": "markdown",
   "metadata": {},
   "source": [
    "Теперь наоборот, техникой Downsampling сделаем объекты не такими частыми."
   ]
  },
  {
   "cell_type": "code",
   "execution_count": 77,
   "metadata": {},
   "outputs": [
    {
     "name": "stdout",
     "output_type": "stream",
     "text": [
      "0    4804\n",
      "1    4784\n",
      "Name: exited, dtype: int64\n"
     ]
    }
   ],
   "source": [
    "## Применим метод. Отбросим часть из отрицательных объектов, с учётом полученных данных создать новую обучающую выборку, применим функцию sample() с аргументом frac.   \n",
    "\n",
    "def downsample(features, target, fraction):\n",
    "    features_zeros = features[target == 0]\n",
    "    features_ones = features[target == 1]\n",
    "    target_zeros = target[target == 0]\n",
    "    target_ones = target[target == 1]\n",
    "\n",
    "    features_downsampled = pd.concat(\n",
    "        [features_zeros.sample(frac=fraction, random_state=12345)] + [features_ones])\n",
    "    target_downsampled = pd.concat(\n",
    "        [target_zeros.sample(frac=fraction, random_state=12345)] + [target_ones])\n",
    "    \n",
    "    features_downsampled, target_downsampled = shuffle(\n",
    "        features_downsampled, target_downsampled, random_state=12345)\n",
    "    \n",
    "    return features_downsampled, target_downsampled\n",
    "\n",
    "features_downsampled, target_downsampled = downsample(features_train, target_train, 0.4)\n",
    "\n",
    "print(target_upsampled.value_counts())"
   ]
  },
  {
   "cell_type": "markdown",
   "metadata": {},
   "source": [
    "**Логистическая регрессия** "
   ]
  },
  {
   "cell_type": "code",
   "execution_count": 78,
   "metadata": {},
   "outputs": [
    {
     "name": "stdout",
     "output_type": "stream",
     "text": [
      "F1: 0.5054229934924078\n",
      "CPU times: user 4.85 ms, sys: 19.9 ms, total: 24.8 ms\n",
      "Wall time: 10.6 ms\n"
     ]
    }
   ],
   "source": [
    "%%time\n",
    "\n",
    "model = LogisticRegression(random_state=12345, solver='liblinear')\n",
    "model.fit(features_downsampled, target_downsampled)\n",
    "predicted_valid = model.predict(features_valid)\n",
    "print(\"F1:\", f1_score(target_valid, predicted_valid))"
   ]
  },
  {
   "cell_type": "markdown",
   "metadata": {},
   "source": [
    "**Дерево решений** "
   ]
  },
  {
   "cell_type": "code",
   "execution_count": 79,
   "metadata": {},
   "outputs": [
    {
     "name": "stdout",
     "output_type": "stream",
     "text": [
      "F1: 0.49158878504672887\n",
      "CPU times: user 20.2 ms, sys: 2 µs, total: 20.2 ms\n",
      "Wall time: 19.2 ms\n"
     ]
    }
   ],
   "source": [
    "%%time\n",
    "\n",
    "model_tree = DecisionTreeClassifier(random_state=12345)\n",
    "model_tree.fit(features_downsampled, target_downsampled)\n",
    "predicted_valid = model_tree.predict(features_valid) \n",
    "print(\"F1:\", f1_score(target_valid, predicted_valid))"
   ]
  },
  {
   "cell_type": "markdown",
   "metadata": {},
   "source": [
    "**Случайный лес** "
   ]
  },
  {
   "cell_type": "code",
   "execution_count": 80,
   "metadata": {},
   "outputs": [
    {
     "name": "stdout",
     "output_type": "stream",
     "text": [
      "F1: 0.6134831460674157\n",
      "0.65311004784689\n",
      "CPU times: user 429 ms, sys: 0 ns, total: 429 ms\n",
      "Wall time: 439 ms\n"
     ]
    }
   ],
   "source": [
    "%%time\n",
    "\n",
    "model_forest = RandomForestClassifier(random_state=12345)\n",
    "model_forest.fit(features_downsampled, target_downsampled)\n",
    "predicted_valid = model_forest.predict(features_valid) \n",
    "print(\"F1:\", f1_score(target_valid, predicted_valid))\n",
    "print (recall_score(target_valid, predicted_valid))"
   ]
  },
  {
   "cell_type": "code",
   "execution_count": 81,
   "metadata": {},
   "outputs": [
    {
     "name": "stdout",
     "output_type": "stream",
     "text": [
      "n_estimators: 60 depth: 13 f1 0.626829268292683\n",
      "[[1383  199]\n",
      " [ 145  273]]\n"
     ]
    }
   ],
   "source": [
    "f1_score_list=0\n",
    "estimators_list=0\n",
    "depth_list=0\n",
    "for es in range(10, 100, 10): \n",
    "    for depth in range(2,30):\n",
    "        model_forest  = RandomForestClassifier(random_state=12345, n_estimators=es, max_depth=depth)\n",
    "        model_forest.fit(features_upsampled, target_upsampled)\n",
    "        predictions_valid = model_forest.predict(features_valid)\n",
    "        f1 = f1_score(target_valid, predictions_valid)\n",
    "        if f1 > f1_score_list:\n",
    "            f1_score_list=f1\n",
    "            estimators_list=es\n",
    "            depth_list=depth\n",
    "print(\"n_estimators:\", estimators_list, \"depth:\", depth_list, \"f1\", f1_score_list)\n",
    "\n",
    "print(confusion_matrix(target_valid, predicted_valid))"
   ]
  },
  {
   "cell_type": "markdown",
   "metadata": {},
   "source": [
    "Теперь попробуем изменить значение порога классификации и посмотрим значения и взаимосвязь показателей точности и полноты."
   ]
  },
  {
   "cell_type": "code",
   "execution_count": 82,
   "metadata": {
    "scrolled": true
   },
   "outputs": [
    {
     "name": "stdout",
     "output_type": "stream",
     "text": [
      "Порог = 0.00 | Точность = 0.209, Полнота = 1.000\n",
      "Порог = 0.05 | Точность = 0.212, Полнота = 1.000\n",
      "Порог = 0.10 | Точность = 0.229, Полнота = 0.990\n",
      "Порог = 0.15 | Точность = 0.251, Полнота = 0.957\n",
      "Порог = 0.20 | Точность = 0.273, Полнота = 0.916\n",
      "Порог = 0.25 | Точность = 0.299, Полнота = 0.864\n",
      "Порог = 0.30 | Точность = 0.335, Полнота = 0.818\n",
      "Порог = 0.35 | Точность = 0.361, Полнота = 0.727\n",
      "Порог = 0.40 | Точность = 0.391, Полнота = 0.663\n",
      "Порог = 0.45 | Точность = 0.425, Полнота = 0.605\n",
      "Порог = 0.50 | Точность = 0.462, Полнота = 0.557\n",
      "Порог = 0.55 | Точность = 0.476, Полнота = 0.459\n",
      "Порог = 0.60 | Точность = 0.484, Полнота = 0.366\n",
      "Порог = 0.65 | Точность = 0.504, Полнота = 0.309\n",
      "Порог = 0.70 | Точность = 0.519, Полнота = 0.256\n",
      "Порог = 0.75 | Точность = 0.609, Полнота = 0.194\n",
      "Порог = 0.80 | Точность = 0.641, Полнота = 0.120\n",
      "Порог = 0.85 | Точность = 0.561, Полнота = 0.055\n"
     ]
    }
   ],
   "source": [
    "model_forest = RandomForestClassifier(random_state=12345)\n",
    "model_forest.fit(features_upsampled, target_upsampled)\n",
    "probabilities_valid = model.predict_proba(features_valid)\n",
    "probabilities_one_valid = probabilities_valid[:, 1]\n",
    "\n",
    "for threshold in np.arange(0, 0.9, 0.05):\n",
    "    predicted_valid = probabilities_one_valid > threshold\n",
    "    precision = precision_score(target_valid, predicted_valid)\n",
    "    recall = recall_score(target_valid, predicted_valid)\n",
    "\n",
    "    print(\"Порог = {:.2f} | Точность = {:.3f}, Полнота = {:.3f}\".format(\n",
    "        threshold, precision, recall))\n",
    "    "
   ]
  },
  {
   "cell_type": "code",
   "execution_count": 83,
   "metadata": {},
   "outputs": [
    {
     "data": {
      "image/png": "[encoded data removed]",
      "text/plain": [
       "<Figure size 432x432 with 1 Axes>"
      ]
     },
     "metadata": {
      "needs_background": "light"
     },
     "output_type": "display_data"
    }
   ],
   "source": [
    "from sklearn.metrics import precision_recall_curve\n",
    "\n",
    "model = LogisticRegression(random_state=12345, solver='liblinear')\n",
    "model.fit(features_upsampled, target_upsampled)\n",
    "\n",
    "probabilities_valid = model.predict_proba(features_valid)\n",
    "precision, recall, thresholds = precision_recall_curve(target_valid, probabilities_valid[:, 1])\n",
    "\n",
    "plt.figure(figsize=(6, 6))\n",
    "plt.step(recall, precision, where='post')\n",
    "plt.xlabel('Recall')\n",
    "plt.ylabel('Precision')\n",
    "plt.ylim([0.0, 1.05])\n",
    "plt.xlim([0.0, 1.0])\n",
    "plt.title('Кривая Precision-Recall')\n",
    "plt.show() "
   ]
  },
  {
   "cell_type": "markdown",
   "metadata": {},
   "source": [
    "ИТОГ:\n",
    "- Logistic Regression - F1 0.42 (Upsampling)/ F1 0.42 (Downsampling)\n",
    "- Decision Tree Classifier - F1 0.48 (Upsampling)/ F1 0.45 (Downsampling)\n",
    "- Random Forest Classifier - F1 0.58 (Upsampling)/ F1 0.57 (Downsampling)"
   ]
  },
  {
   "cell_type": "markdown",
   "metadata": {},
   "source": [
    "При сравнении моделей, без дополнительных гиперпараметров, лучший результат в этой задаче даёт алгоритм случайного леса. Найдем подходящие гиперпараметры: глубину дерева, число деревьев."
   ]
  },
  {
   "cell_type": "code",
   "execution_count": 84,
   "metadata": {},
   "outputs": [
    {
     "name": "stdout",
     "output_type": "stream",
     "text": [
      "n_estimators: 50 depth: 8 f1 0.631236442516269\n",
      "precision: 0.5609756097560976\n",
      "recall: 0.05502392344497608\n"
     ]
    }
   ],
   "source": [
    "f1_score_list=0\n",
    "estimators_list=0\n",
    "depth_list=0\n",
    "for es in range(10, 100, 10): \n",
    "    for depth in range(2,30):\n",
    "        model_forest_balanced  = RandomForestClassifier(random_state=12345, n_estimators=es, max_depth=depth, class_weight='balanced')\n",
    "        model_forest_balanced.fit(features_train, target_train)\n",
    "        predictions_valid = model_forest_balanced.predict(features_valid)\n",
    "        f1 = f1_score(target_valid, predictions_valid)\n",
    "        if f1 > f1_score_list:\n",
    "            f1_score_list=f1\n",
    "            estimators_list=es\n",
    "            depth_list=depth\n",
    "print(\"n_estimators:\", estimators_list, \"depth:\", depth_list, \"f1\", f1_score_list)\n",
    "print(\"precision:\", precision_score(target_valid, predicted_valid))\n",
    "print(\"recall:\", recall_score(target_valid, predicted_valid))"
   ]
  },
  {
   "cell_type": "raw",
   "metadata": {},
   "source": [
    "import itertools\n",
    "import numpy as np\n",
    "\n",
    "best_params = None\n",
    "best_result = 0\n",
    "\n",
    "for params in tqdm(itertools.product(range(1, 50), range(1, 100), range(1, 5))):\n",
    "    depth, est, min_s_1 = params\n",
    "    model = RandomForestClassifier(random_state=12345, n_estimators=est, max_depth=depth, min_samples_leaf = min_s_1)\n",
    "    model.fit(features_train, target_train)\n",
    "    result = model.score(features_valid, target_valid)\n",
    "    if result > best_result:\n",
    "        best_params = params\n",
    "        best_result = result\n",
    "    print(f'Score of best model {np.round(best_result, 5)}')\n",
    "    print(f'\\nParms:\\nmax_depth = {best_params[0]}\\nn_estimators = {best_params[1]}\\min_samples_leaf = {best_params[2]}')"
   ]
  },
  {
   "cell_type": "markdown",
   "metadata": {},
   "source": [
    "Чтобы выявить, как сильно наша модель отличается от случайной, посмотрим ROC-кривую и посчитаем площадь под ROC-кривой. По горизонтали - доля ложноположительных ответов (FPR), а по вертикали — доля истинно положительных ответов (TPR)."
   ]
  },
  {
   "cell_type": "code",
   "execution_count": 91,
   "metadata": {},
   "outputs": [
    {
     "data": {
      "image/png": "[encoded data removed]",
      "text/plain": [
       "<Figure size 432x288 with 1 Axes>"
      ]
     },
     "metadata": {
      "needs_background": "light"
     },
     "output_type": "display_data"
    }
   ],
   "source": [
    "model_forest_balanced  = RandomForestClassifier(random_state=12345, n_estimators=es, max_depth=depth, class_weight='balanced')\n",
    "model_forest_balanced.fit(features_train, target_train)\n",
    "\n",
    "probabilities_valid = model.predict_proba(features_valid)\n",
    "probabilities_one_valid = probabilities_valid[:, 1]\n",
    "\n",
    "fpr, tpr, thresholds = roc_curve(target_valid, probabilities_one_valid) \n",
    "\n",
    "plt.figure()\n",
    "\n",
    "plt.plot(fpr, tpr)\n",
    "\n",
    "# ROC-кривая случайной модели (выглядит как прямая)\n",
    "plt.plot([0, 1], [0, 1], linestyle='--')\n",
    "\n",
    "plt.xlim([0.0, 1.0])\n",
    "plt.ylim([0.0, 1.0])\n",
    "\n",
    "plt.xlabel('False Positive Rate')\n",
    "plt.ylabel('True Positive Rate')\n",
    "\n",
    "plt.title('ROC-кривая')\n",
    "\n",
    "plt.show()"
   ]
  },
  {
   "cell_type": "code",
   "execution_count": 92,
   "metadata": {},
   "outputs": [
    {
     "name": "stdout",
     "output_type": "stream",
     "text": [
      "auc_roc 0.7634769748183815\n"
     ]
    }
   ],
   "source": [
    "auc_roc = roc_auc_score(target_valid, probabilities_one_valid)\n",
    "print('auc_roc', auc_roc)"
   ]
  },
  {
   "cell_type": "markdown",
   "metadata": {},
   "source": [
    "Да, кассы сбалансированы, итог метрики качества лучше чем у случайной модели, который равен 0,5."
   ]
  },
  {
   "cell_type": "markdown",
   "metadata": {},
   "source": [
    "## Тестирование модели"
   ]
  },
  {
   "cell_type": "markdown",
   "metadata": {},
   "source": [
    "Подобрали наилучшую модель. Проверим её качество на тестовых данных. Модель случайного леса на увеличенной выборке показала лучшее значение F-меры. Поэтому тестировать будем на этой модели."
   ]
  },
  {
   "cell_type": "code",
   "execution_count": 111,
   "metadata": {},
   "outputs": [
    {
     "name": "stdout",
     "output_type": "stream",
     "text": [
      "f1: 0.5131375579598144\n"
     ]
    }
   ],
   "source": [
    "model_forest_balanced  = RandomForestClassifier(random_state=12345, n_estimators=es, max_depth=depth, class_weight='balanced')\n",
    "model_forest_balanced.fit(features_train, target_train)\n",
    "predicted_test = model_forest_balanced.predict(features_test)\n",
    "print('f1:', f1_score(target_test, predicted_test))"
   ]
  },
  {
   "cell_type": "markdown",
   "metadata": {},
   "source": [
    "Модель проверена на тестовой выборке. Качество при тестирование равно 60%."
   ]
  },
  {
   "cell_type": "markdown",
   "metadata": {},
   "source": [
    "Проверим на метрику качества на выборках, увеличение метрики означает прирост качества модели."
   ]
  },
  {
   "cell_type": "code",
   "execution_count": 112,
   "metadata": {},
   "outputs": [
    {
     "name": "stdout",
     "output_type": "stream",
     "text": [
      "Наилучшая модель\n",
      "Accuracy на обучающей выборке:  0.718\n",
      "Accuracy на валидационной выборке:  0.701\n",
      "Accuracy на тестовой выборке:  0.6985\n"
     ]
    }
   ],
   "source": [
    "model_forest_balanced = RandomForestClassifier(random_state=12345, n_estimators=50, max_depth=8, class_weight='balanced')\n",
    "model_forest_balanced.fit(features_train, target_train)\n",
    "\n",
    "print(\"Наилучшая модель\")\n",
    "print(\"Accuracy на обучающей выборке: \", model.score(features_train, target_train)) \n",
    "print(\"Accuracy на валидационной выборке: \", model.score(features_valid, target_valid))\n",
    "print(\"Accuracy на тестовой выборке: \", model.score(features_test, target_test))"
   ]
  },
  {
   "cell_type": "markdown",
   "metadata": {},
   "source": [
    "Качество на тестовых данных проверено, высокие показатели, близко 1."
   ]
  },
  {
   "cell_type": "markdown",
   "metadata": {},
   "source": [
    "**Общий вывод**\n",
    "\n",
    "В целом, задача по имеющимся данным выполнена. Результаты могут быть полезны, и уход клиента можно спрогнозировать. \n",
    "\n",
    "Перед обучением, построением моделей проанализированы и подготовлены данные (наименования столбцов, пропуски, проведена работа с категориальными признаками).   \n",
    "\n",
    "Исследован баланс классов и изучены модели без учёта дисбаланса:\n",
    "\n",
    "Logistic Regression - F1 0.33. Высокая разница при балансировке - 48%!\n",
    "Decision Tree Classifier - Лучшая F1 0.578 cо значением глубины 9.\n",
    "Random Forest Classifier - F1 0.578. При сравнении моделей, без дополнительных гиперпараметров, одинаковые результаты дают алгоритмы случайного леса и дерева решений.\n",
    "\n",
    "Для борьбы с дисбалансом использованы техники Upsampling и Downsampling. Лучшие показатели у алгоритма Random Forest Classifier при увеличении признаков и балансировке:\n",
    "\n",
    "Random Forest Classifier - F1 0.58 (Upsampling)/ F1 0.57 (Downsampling). Далее с новыми выборками и подбором гиперпараметров \n",
    "построена модель с предельно большим значением F1-меры:\n",
    "\n",
    "Случайный лес - Random Forest Classifier - F1 0.63 при кол-ве деревьев 100, глубине 30.\n",
    "n_estimators: 50 depth: 8 f1 0.631236442516269\n",
    "\n",
    "Проведена проверка модели на тестовой выборке, результат 60%.\n",
    "\n",
    "Проверена метрика коэффициента детерминации наилучшей модели, показатели высокие:\n",
    "\n",
    "Accuracy на обучающей выборке:  0.718\n",
    "Accuracy на валидационной выборке:  0.701\n",
    "Accuracy на тестовой выборке:  0.6985\n",
    "\n",
    "Для проверки как сильно модель отличается от случайной, построили ROC-кривую и посчитали площадь под ROC-кривой: значение AUC-ROC =  0.76 (достаточно адекватно)."
   ]
  }
 ],
 "metadata": {
  "ExecuteTimeLog": [
   {
    "duration": 1641,
    "start_time": "2022-11-19T11:54:28.587Z"
   },
   {
    "duration": 72,
    "start_time": "2022-11-19T11:55:10.285Z"
   },
   {
    "duration": 156,
    "start_time": "2022-11-19T11:55:50.000Z"
   },
   {
    "duration": 43,
    "start_time": "2022-11-19T11:57:21.293Z"
   },
   {
    "duration": 14,
    "start_time": "2022-11-19T11:57:22.896Z"
   },
   {
    "duration": 6,
    "start_time": "2022-11-19T11:59:14.490Z"
   },
   {
    "duration": 44,
    "start_time": "2022-11-19T11:59:17.496Z"
   },
   {
    "duration": 13,
    "start_time": "2022-11-19T11:59:19.790Z"
   },
   {
    "duration": 7,
    "start_time": "2022-11-19T11:59:38.698Z"
   },
   {
    "duration": 23,
    "start_time": "2022-11-19T12:05:42.836Z"
   },
   {
    "duration": 5,
    "start_time": "2022-11-19T12:07:35.387Z"
   },
   {
    "duration": 127,
    "start_time": "2022-11-19T12:12:34.107Z"
   },
   {
    "duration": 6,
    "start_time": "2022-11-19T12:12:42.113Z"
   },
   {
    "duration": 23,
    "start_time": "2022-11-19T12:14:34.550Z"
   },
   {
    "duration": 5,
    "start_time": "2022-11-19T12:19:47.684Z"
   },
   {
    "duration": 5,
    "start_time": "2022-11-19T12:21:44.626Z"
   },
   {
    "duration": 4,
    "start_time": "2022-11-19T12:22:05.916Z"
   },
   {
    "duration": 3,
    "start_time": "2022-11-19T12:22:53.094Z"
   },
   {
    "duration": 6,
    "start_time": "2022-11-19T12:23:01.785Z"
   },
   {
    "duration": 9,
    "start_time": "2022-11-19T12:37:51.696Z"
   },
   {
    "duration": 9,
    "start_time": "2022-11-19T12:38:01.724Z"
   },
   {
    "duration": 210,
    "start_time": "2022-11-19T12:38:08.824Z"
   },
   {
    "duration": 1280,
    "start_time": "2022-11-19T13:17:42.952Z"
   },
   {
    "duration": 1456,
    "start_time": "2022-11-20T09:34:05.549Z"
   },
   {
    "duration": 92,
    "start_time": "2022-11-20T09:34:09.552Z"
   },
   {
    "duration": 13,
    "start_time": "2022-11-20T09:34:11.007Z"
   },
   {
    "duration": 5,
    "start_time": "2022-11-20T09:34:25.236Z"
   },
   {
    "duration": 18,
    "start_time": "2022-11-20T09:34:27.872Z"
   },
   {
    "duration": 20,
    "start_time": "2022-11-20T09:34:34.676Z"
   },
   {
    "duration": 775,
    "start_time": "2022-11-20T09:35:22.487Z"
   },
   {
    "duration": 5,
    "start_time": "2022-11-20T09:35:49.627Z"
   },
   {
    "duration": 5,
    "start_time": "2022-11-20T09:35:58.045Z"
   },
   {
    "duration": 4,
    "start_time": "2022-11-20T09:36:00.542Z"
   },
   {
    "duration": 3,
    "start_time": "2022-11-20T09:36:02.285Z"
   },
   {
    "duration": 4,
    "start_time": "2022-11-20T09:36:03.802Z"
   },
   {
    "duration": 4,
    "start_time": "2022-11-20T09:40:49.923Z"
   },
   {
    "duration": 10,
    "start_time": "2022-11-20T09:42:40.379Z"
   },
   {
    "duration": 13,
    "start_time": "2022-11-20T09:43:21.501Z"
   },
   {
    "duration": 3,
    "start_time": "2022-11-20T09:45:14.595Z"
   },
   {
    "duration": 7,
    "start_time": "2022-11-20T09:48:58.284Z"
   },
   {
    "duration": 11,
    "start_time": "2022-11-20T09:52:15.474Z"
   },
   {
    "duration": 15,
    "start_time": "2022-11-20T09:53:03.412Z"
   },
   {
    "duration": 6,
    "start_time": "2022-11-20T09:58:35.502Z"
   },
   {
    "duration": 100,
    "start_time": "2022-11-20T09:59:42.443Z"
   },
   {
    "duration": 28,
    "start_time": "2022-11-20T10:04:45.772Z"
   },
   {
    "duration": 24,
    "start_time": "2022-11-20T10:06:16.966Z"
   },
   {
    "duration": 22,
    "start_time": "2022-11-20T10:10:04.076Z"
   },
   {
    "duration": 74,
    "start_time": "2022-11-20T10:11:30.079Z"
   },
   {
    "duration": 25,
    "start_time": "2022-11-20T10:11:36.024Z"
   },
   {
    "duration": 18,
    "start_time": "2022-11-20T10:12:20.285Z"
   },
   {
    "duration": 3,
    "start_time": "2022-11-20T10:13:08.373Z"
   },
   {
    "duration": 38,
    "start_time": "2022-11-20T10:13:10.670Z"
   },
   {
    "duration": 12,
    "start_time": "2022-11-20T10:13:12.452Z"
   },
   {
    "duration": 4,
    "start_time": "2022-11-20T10:13:17.304Z"
   },
   {
    "duration": 16,
    "start_time": "2022-11-20T10:13:18.949Z"
   },
   {
    "duration": 1525,
    "start_time": "2022-11-20T10:13:31.783Z"
   },
   {
    "duration": 42,
    "start_time": "2022-11-20T10:13:34.874Z"
   },
   {
    "duration": 16,
    "start_time": "2022-11-20T10:13:36.250Z"
   },
   {
    "duration": 6,
    "start_time": "2022-11-20T10:13:40.350Z"
   },
   {
    "duration": 19,
    "start_time": "2022-11-20T10:13:41.872Z"
   },
   {
    "duration": 26,
    "start_time": "2022-11-20T10:13:45.825Z"
   },
   {
    "duration": 4,
    "start_time": "2022-11-20T10:13:50.694Z"
   },
   {
    "duration": 7,
    "start_time": "2022-11-20T10:13:55.524Z"
   },
   {
    "duration": 5,
    "start_time": "2022-11-20T10:14:00.623Z"
   },
   {
    "duration": 3,
    "start_time": "2022-11-20T10:14:02.344Z"
   },
   {
    "duration": 5,
    "start_time": "2022-11-20T10:14:04.068Z"
   },
   {
    "duration": 5,
    "start_time": "2022-11-20T10:14:05.939Z"
   },
   {
    "duration": 10,
    "start_time": "2022-11-20T10:14:11.255Z"
   },
   {
    "duration": 12,
    "start_time": "2022-11-20T10:14:13.399Z"
   },
   {
    "duration": 4,
    "start_time": "2022-11-20T10:14:18.107Z"
   },
   {
    "duration": 6,
    "start_time": "2022-11-20T10:14:22.679Z"
   },
   {
    "duration": 11,
    "start_time": "2022-11-20T10:14:24.654Z"
   },
   {
    "duration": 6,
    "start_time": "2022-11-20T10:14:30.462Z"
   },
   {
    "duration": 23,
    "start_time": "2022-11-20T10:14:34.451Z"
   },
   {
    "duration": 107,
    "start_time": "2022-11-20T10:18:17.920Z"
   },
   {
    "duration": 517,
    "start_time": "2022-11-20T10:19:19.505Z"
   },
   {
    "duration": 51,
    "start_time": "2022-11-20T10:22:40.986Z"
   },
   {
    "duration": 1087,
    "start_time": "2022-11-20T10:22:50.486Z"
   },
   {
    "duration": 628,
    "start_time": "2022-11-20T10:23:29.343Z"
   },
   {
    "duration": 668,
    "start_time": "2022-11-20T10:29:42.218Z"
   },
   {
    "duration": 628,
    "start_time": "2022-11-20T10:29:56.600Z"
   },
   {
    "duration": 453,
    "start_time": "2022-11-20T10:32:31.045Z"
   },
   {
    "duration": 615,
    "start_time": "2022-11-20T10:32:46.482Z"
   },
   {
    "duration": 1001,
    "start_time": "2022-11-20T10:33:39.323Z"
   },
   {
    "duration": 522,
    "start_time": "2022-11-20T10:33:59.898Z"
   },
   {
    "duration": 47,
    "start_time": "2022-11-20T10:36:09.850Z"
   },
   {
    "duration": 78,
    "start_time": "2022-11-20T10:39:56.122Z"
   },
   {
    "duration": 42,
    "start_time": "2022-11-20T10:41:18.235Z"
   },
   {
    "duration": 127,
    "start_time": "2022-11-20T10:44:34.021Z"
   },
   {
    "duration": 128,
    "start_time": "2022-11-20T10:45:00.836Z"
   },
   {
    "duration": 1265,
    "start_time": "2022-11-20T10:46:22.140Z"
   },
   {
    "duration": 42,
    "start_time": "2022-11-20T10:46:24.489Z"
   },
   {
    "duration": 12,
    "start_time": "2022-11-20T10:46:26.117Z"
   },
   {
    "duration": 5,
    "start_time": "2022-11-20T10:46:30.496Z"
   },
   {
    "duration": 18,
    "start_time": "2022-11-20T10:46:32.004Z"
   },
   {
    "duration": 18,
    "start_time": "2022-11-20T10:46:40.156Z"
   },
   {
    "duration": 22,
    "start_time": "2022-11-20T10:46:44.985Z"
   },
   {
    "duration": 4,
    "start_time": "2022-11-20T10:46:50.276Z"
   },
   {
    "duration": 4,
    "start_time": "2022-11-20T10:47:30.310Z"
   },
   {
    "duration": 4,
    "start_time": "2022-11-20T10:47:32.298Z"
   },
   {
    "duration": 3,
    "start_time": "2022-11-20T10:47:34.135Z"
   },
   {
    "duration": 5,
    "start_time": "2022-11-20T10:47:35.710Z"
   },
   {
    "duration": 5,
    "start_time": "2022-11-20T10:47:39.700Z"
   },
   {
    "duration": 10,
    "start_time": "2022-11-20T10:47:43.686Z"
   },
   {
    "duration": 12,
    "start_time": "2022-11-20T10:47:45.947Z"
   },
   {
    "duration": 4,
    "start_time": "2022-11-20T10:47:52.285Z"
   },
   {
    "duration": 8,
    "start_time": "2022-11-20T10:47:56.884Z"
   },
   {
    "duration": 13,
    "start_time": "2022-11-20T10:47:59.157Z"
   },
   {
    "duration": 6,
    "start_time": "2022-11-20T10:48:05.948Z"
   },
   {
    "duration": 73,
    "start_time": "2022-11-20T10:48:18.542Z"
   },
   {
    "duration": 630,
    "start_time": "2022-11-20T10:48:23.136Z"
   },
   {
    "duration": 627,
    "start_time": "2022-11-20T10:48:32.989Z"
   },
   {
    "duration": 29,
    "start_time": "2022-11-20T10:48:47.943Z"
   },
   {
    "duration": 6200,
    "start_time": "2022-11-20T10:48:53.977Z"
   },
   {
    "duration": 1272,
    "start_time": "2022-11-20T10:49:54.333Z"
   },
   {
    "duration": 42,
    "start_time": "2022-11-20T10:49:57.435Z"
   },
   {
    "duration": 13,
    "start_time": "2022-11-20T10:49:58.848Z"
   },
   {
    "duration": 6,
    "start_time": "2022-11-20T10:50:03.092Z"
   },
   {
    "duration": 19,
    "start_time": "2022-11-20T10:50:04.635Z"
   },
   {
    "duration": 21,
    "start_time": "2022-11-20T10:50:08.505Z"
   },
   {
    "duration": 4,
    "start_time": "2022-11-20T10:50:12.709Z"
   },
   {
    "duration": 3,
    "start_time": "2022-11-20T10:50:14.505Z"
   },
   {
    "duration": 4,
    "start_time": "2022-11-20T10:50:16.189Z"
   },
   {
    "duration": 4,
    "start_time": "2022-11-20T10:50:20.289Z"
   },
   {
    "duration": 4,
    "start_time": "2022-11-20T10:50:21.747Z"
   },
   {
    "duration": 5,
    "start_time": "2022-11-20T10:50:23.427Z"
   },
   {
    "duration": 11,
    "start_time": "2022-11-20T10:50:28.196Z"
   },
   {
    "duration": 13,
    "start_time": "2022-11-20T10:50:29.826Z"
   },
   {
    "duration": 4,
    "start_time": "2022-11-20T10:50:31.627Z"
   },
   {
    "duration": 7,
    "start_time": "2022-11-20T10:50:33.204Z"
   },
   {
    "duration": 10,
    "start_time": "2022-11-20T10:50:37.224Z"
   },
   {
    "duration": 7,
    "start_time": "2022-11-20T10:50:40.096Z"
   },
   {
    "duration": 32,
    "start_time": "2022-11-20T10:50:45.231Z"
   },
   {
    "duration": 17,
    "start_time": "2022-11-20T10:50:50.690Z"
   },
   {
    "duration": 631,
    "start_time": "2022-11-20T10:51:15.719Z"
   },
   {
    "duration": 6022,
    "start_time": "2022-11-20T10:51:24.384Z"
   },
   {
    "duration": 169,
    "start_time": "2022-11-20T10:51:56.673Z"
   },
   {
    "duration": 54,
    "start_time": "2022-11-20T10:53:03.114Z"
   },
   {
    "duration": 147,
    "start_time": "2022-11-20T10:53:10.400Z"
   },
   {
    "duration": 56,
    "start_time": "2022-11-20T10:56:19.339Z"
   },
   {
    "duration": 13,
    "start_time": "2022-11-20T11:00:11.053Z"
   },
   {
    "duration": 25,
    "start_time": "2022-11-20T11:00:41.533Z"
   },
   {
    "duration": 227,
    "start_time": "2022-11-20T11:01:05.490Z"
   },
   {
    "duration": 1304,
    "start_time": "2022-11-20T11:01:40.599Z"
   },
   {
    "duration": 41,
    "start_time": "2022-11-20T11:04:07.401Z"
   },
   {
    "duration": 12,
    "start_time": "2022-11-20T11:04:09.916Z"
   },
   {
    "duration": 25,
    "start_time": "2022-11-20T11:06:52.133Z"
   },
   {
    "duration": 25,
    "start_time": "2022-11-20T11:06:57.729Z"
   },
   {
    "duration": 4,
    "start_time": "2022-11-20T11:07:04.502Z"
   },
   {
    "duration": 10,
    "start_time": "2022-11-20T11:07:50.598Z"
   },
   {
    "duration": 3,
    "start_time": "2022-11-20T11:08:00.911Z"
   },
   {
    "duration": 4,
    "start_time": "2022-11-20T11:10:06.838Z"
   },
   {
    "duration": 3,
    "start_time": "2022-11-20T11:10:08.822Z"
   },
   {
    "duration": 4,
    "start_time": "2022-11-20T11:10:10.913Z"
   },
   {
    "duration": 5,
    "start_time": "2022-11-20T11:10:18.452Z"
   },
   {
    "duration": 11,
    "start_time": "2022-11-20T11:10:24.293Z"
   },
   {
    "duration": 14,
    "start_time": "2022-11-20T11:10:38.392Z"
   },
   {
    "duration": 1328,
    "start_time": "2022-11-20T11:12:14.899Z"
   },
   {
    "duration": 41,
    "start_time": "2022-11-20T11:12:19.128Z"
   },
   {
    "duration": 13,
    "start_time": "2022-11-20T11:12:20.446Z"
   },
   {
    "duration": 5,
    "start_time": "2022-11-20T11:12:24.475Z"
   },
   {
    "duration": 19,
    "start_time": "2022-11-20T11:12:26.048Z"
   },
   {
    "duration": 45,
    "start_time": "2022-11-20T11:12:30.422Z"
   },
   {
    "duration": 4,
    "start_time": "2022-11-20T11:12:34.791Z"
   },
   {
    "duration": 4,
    "start_time": "2022-11-20T11:12:39.257Z"
   },
   {
    "duration": 5,
    "start_time": "2022-11-20T11:12:43.416Z"
   },
   {
    "duration": 3,
    "start_time": "2022-11-20T11:12:50.482Z"
   },
   {
    "duration": 4,
    "start_time": "2022-11-20T11:12:52.430Z"
   },
   {
    "duration": 5,
    "start_time": "2022-11-20T11:12:57.293Z"
   },
   {
    "duration": 10,
    "start_time": "2022-11-20T11:13:02.447Z"
   },
   {
    "duration": 11,
    "start_time": "2022-11-20T11:13:03.943Z"
   },
   {
    "duration": 4,
    "start_time": "2022-11-20T11:13:09.998Z"
   },
   {
    "duration": 6,
    "start_time": "2022-11-20T11:13:12.643Z"
   },
   {
    "duration": 9,
    "start_time": "2022-11-20T11:13:14.245Z"
   },
   {
    "duration": 5,
    "start_time": "2022-11-20T11:13:19.281Z"
   },
   {
    "duration": 28,
    "start_time": "2022-11-20T11:13:23.486Z"
   },
   {
    "duration": 23,
    "start_time": "2022-11-20T11:13:30.550Z"
   },
   {
    "duration": 658,
    "start_time": "2022-11-20T11:13:35.789Z"
   },
   {
    "duration": 51,
    "start_time": "2022-11-20T11:13:43.767Z"
   },
   {
    "duration": 1126,
    "start_time": "2022-11-20T11:14:45.664Z"
   },
   {
    "duration": 6016,
    "start_time": "2022-11-20T11:15:03.444Z"
   },
   {
    "duration": 178,
    "start_time": "2022-11-20T11:15:13.253Z"
   },
   {
    "duration": 56,
    "start_time": "2022-11-20T11:17:24.783Z"
   },
   {
    "duration": 147,
    "start_time": "2022-11-20T11:18:02.874Z"
   },
   {
    "duration": 1403,
    "start_time": "2022-11-20T11:19:52.618Z"
   },
   {
    "duration": 41,
    "start_time": "2022-11-20T11:19:55.613Z"
   },
   {
    "duration": 16,
    "start_time": "2022-11-20T11:19:57.620Z"
   },
   {
    "duration": 5,
    "start_time": "2022-11-20T11:20:01.678Z"
   },
   {
    "duration": 23,
    "start_time": "2022-11-20T11:20:03.247Z"
   },
   {
    "duration": 23,
    "start_time": "2022-11-20T11:20:08.377Z"
   },
   {
    "duration": 4,
    "start_time": "2022-11-20T11:20:13.484Z"
   },
   {
    "duration": 4,
    "start_time": "2022-11-20T11:20:15.203Z"
   },
   {
    "duration": 5,
    "start_time": "2022-11-20T11:20:20.444Z"
   },
   {
    "duration": 4,
    "start_time": "2022-11-20T11:20:22.375Z"
   },
   {
    "duration": 4,
    "start_time": "2022-11-20T11:20:23.936Z"
   },
   {
    "duration": 5,
    "start_time": "2022-11-20T11:20:25.742Z"
   },
   {
    "duration": 10,
    "start_time": "2022-11-20T11:20:31.037Z"
   },
   {
    "duration": 11,
    "start_time": "2022-11-20T11:20:33.977Z"
   },
   {
    "duration": 4,
    "start_time": "2022-11-20T11:20:39.543Z"
   },
   {
    "duration": 6,
    "start_time": "2022-11-20T11:20:46.525Z"
   },
   {
    "duration": 5,
    "start_time": "2022-11-20T11:20:57.345Z"
   },
   {
    "duration": 8,
    "start_time": "2022-11-20T11:21:03.483Z"
   },
   {
    "duration": 10,
    "start_time": "2022-11-20T11:21:09.221Z"
   },
   {
    "duration": 29,
    "start_time": "2022-11-20T11:21:24.649Z"
   },
   {
    "duration": 24,
    "start_time": "2022-11-20T11:21:30.301Z"
   },
   {
    "duration": 639,
    "start_time": "2022-11-20T11:21:32.314Z"
   },
   {
    "duration": 49,
    "start_time": "2022-11-20T11:21:40.653Z"
   },
   {
    "duration": 320,
    "start_time": "2022-11-20T11:21:45.082Z"
   },
   {
    "duration": 10,
    "start_time": "2022-11-20T11:25:08.420Z"
   },
   {
    "duration": 11,
    "start_time": "2022-11-20T11:25:11.086Z"
   },
   {
    "duration": 11,
    "start_time": "2022-11-20T11:25:21.297Z"
   },
   {
    "duration": 7,
    "start_time": "2022-11-20T11:25:25.621Z"
   },
   {
    "duration": 9,
    "start_time": "2022-11-20T11:26:19.488Z"
   },
   {
    "duration": 30,
    "start_time": "2022-11-20T11:28:10.092Z"
   },
   {
    "duration": 1368,
    "start_time": "2022-11-20T11:29:03.821Z"
   },
   {
    "duration": 44,
    "start_time": "2022-11-20T11:29:07.954Z"
   },
   {
    "duration": 15,
    "start_time": "2022-11-20T11:29:09.854Z"
   },
   {
    "duration": 6,
    "start_time": "2022-11-20T11:29:15.131Z"
   },
   {
    "duration": 20,
    "start_time": "2022-11-20T11:29:17.032Z"
   },
   {
    "duration": 34,
    "start_time": "2022-11-20T11:29:25.766Z"
   },
   {
    "duration": 4,
    "start_time": "2022-11-20T11:29:34.770Z"
   },
   {
    "duration": 5,
    "start_time": "2022-11-20T11:29:39.617Z"
   },
   {
    "duration": 4,
    "start_time": "2022-11-20T11:29:47.014Z"
   },
   {
    "duration": 3,
    "start_time": "2022-11-20T11:29:49.820Z"
   },
   {
    "duration": 4,
    "start_time": "2022-11-20T11:29:51.750Z"
   },
   {
    "duration": 6,
    "start_time": "2022-11-20T11:29:56.484Z"
   },
   {
    "duration": 6,
    "start_time": "2022-11-20T11:29:57.958Z"
   },
   {
    "duration": 11,
    "start_time": "2022-11-20T11:30:02.344Z"
   },
   {
    "duration": 11,
    "start_time": "2022-11-20T11:30:03.922Z"
   },
   {
    "duration": 6,
    "start_time": "2022-11-20T11:30:16.328Z"
   },
   {
    "duration": 10,
    "start_time": "2022-11-20T11:30:17.870Z"
   },
   {
    "duration": 12,
    "start_time": "2022-11-20T11:31:30.645Z"
   },
   {
    "duration": 1395,
    "start_time": "2022-11-20T11:31:52.213Z"
   },
   {
    "duration": 42,
    "start_time": "2022-11-20T11:31:55.581Z"
   },
   {
    "duration": 14,
    "start_time": "2022-11-20T11:31:57.355Z"
   },
   {
    "duration": 5,
    "start_time": "2022-11-20T11:32:05.602Z"
   },
   {
    "duration": 21,
    "start_time": "2022-11-20T11:32:09.054Z"
   },
   {
    "duration": 21,
    "start_time": "2022-11-20T11:32:15.041Z"
   },
   {
    "duration": 4,
    "start_time": "2022-11-20T11:32:21.481Z"
   },
   {
    "duration": 5,
    "start_time": "2022-11-20T11:32:23.327Z"
   },
   {
    "duration": 4,
    "start_time": "2022-11-20T11:32:25.086Z"
   },
   {
    "duration": 3,
    "start_time": "2022-11-20T11:32:29.454Z"
   },
   {
    "duration": 4,
    "start_time": "2022-11-20T11:32:31.205Z"
   },
   {
    "duration": 5,
    "start_time": "2022-11-20T11:32:33.093Z"
   },
   {
    "duration": 134,
    "start_time": "2022-11-20T11:32:34.451Z"
   },
   {
    "duration": 3,
    "start_time": "2022-11-20T11:33:37.734Z"
   },
   {
    "duration": 4,
    "start_time": "2022-11-20T11:33:39.398Z"
   },
   {
    "duration": 13,
    "start_time": "2022-11-20T11:33:41.209Z"
   },
   {
    "duration": 1410,
    "start_time": "2022-11-20T11:34:12.986Z"
   },
   {
    "duration": 54,
    "start_time": "2022-11-20T11:34:17.102Z"
   },
   {
    "duration": 12,
    "start_time": "2022-11-20T11:34:18.884Z"
   },
   {
    "duration": 5,
    "start_time": "2022-11-20T11:34:24.448Z"
   },
   {
    "duration": 21,
    "start_time": "2022-11-20T11:34:26.200Z"
   },
   {
    "duration": 21,
    "start_time": "2022-11-20T11:34:30.540Z"
   },
   {
    "duration": 4,
    "start_time": "2022-11-20T11:34:35.924Z"
   },
   {
    "duration": 4,
    "start_time": "2022-11-20T11:34:37.810Z"
   },
   {
    "duration": 5,
    "start_time": "2022-11-20T11:34:42.247Z"
   },
   {
    "duration": 3,
    "start_time": "2022-11-20T11:34:44.740Z"
   },
   {
    "duration": 4,
    "start_time": "2022-11-20T11:34:46.602Z"
   },
   {
    "duration": 5,
    "start_time": "2022-11-20T11:34:49.406Z"
   },
   {
    "duration": 5,
    "start_time": "2022-11-20T11:34:52.144Z"
   },
   {
    "duration": 10,
    "start_time": "2022-11-20T11:35:00.107Z"
   },
   {
    "duration": 12,
    "start_time": "2022-11-20T11:35:02.132Z"
   },
   {
    "duration": 4,
    "start_time": "2022-11-20T11:35:17.837Z"
   },
   {
    "duration": 8,
    "start_time": "2022-11-20T11:35:21.846Z"
   },
   {
    "duration": 12,
    "start_time": "2022-11-20T11:35:27.166Z"
   },
   {
    "duration": 6,
    "start_time": "2022-11-20T11:36:17.939Z"
   },
   {
    "duration": 28,
    "start_time": "2022-11-20T11:36:23.638Z"
   },
   {
    "duration": 23,
    "start_time": "2022-11-20T11:36:40.713Z"
   },
   {
    "duration": 460,
    "start_time": "2022-11-20T11:36:51.789Z"
   },
   {
    "duration": 48,
    "start_time": "2022-11-20T11:37:29.941Z"
   },
   {
    "duration": 323,
    "start_time": "2022-11-20T11:40:02.224Z"
   },
   {
    "duration": 294,
    "start_time": "2022-11-20T11:40:13.361Z"
   },
   {
    "duration": 336,
    "start_time": "2022-11-20T11:40:23.120Z"
   },
   {
    "duration": 308,
    "start_time": "2022-11-20T11:41:09.675Z"
   },
   {
    "duration": 307,
    "start_time": "2022-11-20T11:41:29.100Z"
   },
   {
    "duration": 35,
    "start_time": "2022-11-20T11:41:43.455Z"
   },
   {
    "duration": 186286,
    "start_time": "2022-11-20T11:44:52.575Z"
   },
   {
    "duration": 181625,
    "start_time": "2022-11-20T11:52:04.185Z"
   },
   {
    "duration": 286,
    "start_time": "2022-11-20T11:58:27.434Z"
   },
   {
    "duration": 21,
    "start_time": "2022-11-20T12:01:35.635Z"
   },
   {
    "duration": 1679,
    "start_time": "2022-11-21T05:25:34.233Z"
   },
   {
    "duration": 7,
    "start_time": "2022-11-21T05:29:09.250Z"
   },
   {
    "duration": 1461,
    "start_time": "2022-11-21T05:29:22.643Z"
   },
   {
    "duration": 161,
    "start_time": "2022-11-21T05:29:26.284Z"
   },
   {
    "duration": 14,
    "start_time": "2022-11-21T05:29:28.618Z"
   },
   {
    "duration": 6,
    "start_time": "2022-11-21T05:29:31.082Z"
   },
   {
    "duration": 21,
    "start_time": "2022-11-21T05:29:32.843Z"
   },
   {
    "duration": 23,
    "start_time": "2022-11-21T05:29:35.250Z"
   },
   {
    "duration": 4,
    "start_time": "2022-11-21T05:29:37.682Z"
   },
   {
    "duration": 5,
    "start_time": "2022-11-21T05:29:39.546Z"
   },
   {
    "duration": 4,
    "start_time": "2022-11-21T05:29:41.898Z"
   },
   {
    "duration": 3,
    "start_time": "2022-11-21T05:29:43.810Z"
   },
   {
    "duration": 5,
    "start_time": "2022-11-21T05:29:46.322Z"
   },
   {
    "duration": 6,
    "start_time": "2022-11-21T05:29:48.545Z"
   },
   {
    "duration": 6,
    "start_time": "2022-11-21T05:29:50.235Z"
   },
   {
    "duration": 11,
    "start_time": "2022-11-21T05:29:51.915Z"
   },
   {
    "duration": 12,
    "start_time": "2022-11-21T05:29:53.587Z"
   },
   {
    "duration": 4,
    "start_time": "2022-11-21T05:29:55.748Z"
   },
   {
    "duration": 7,
    "start_time": "2022-11-21T05:29:57.522Z"
   },
   {
    "duration": 11,
    "start_time": "2022-11-21T05:29:59.195Z"
   },
   {
    "duration": 7,
    "start_time": "2022-11-21T05:30:01.739Z"
   },
   {
    "duration": 33,
    "start_time": "2022-11-21T05:30:04.443Z"
   },
   {
    "duration": 400,
    "start_time": "2022-11-21T05:30:08.595Z"
   },
   {
    "duration": 191,
    "start_time": "2022-11-21T05:31:19.965Z"
   },
   {
    "duration": 323,
    "start_time": "2022-11-21T05:31:22.276Z"
   },
   {
    "duration": 188987,
    "start_time": "2022-11-21T05:31:39.796Z"
   },
   {
    "duration": 23,
    "start_time": "2022-11-21T05:35:03.704Z"
   },
   {
    "duration": 112,
    "start_time": "2022-11-21T05:38:36.044Z"
   },
   {
    "duration": 128,
    "start_time": "2022-11-21T05:40:51.438Z"
   },
   {
    "duration": 56,
    "start_time": "2022-11-21T05:43:11.103Z"
   },
   {
    "duration": 14,
    "start_time": "2022-11-21T05:45:35.818Z"
   },
   {
    "duration": 85,
    "start_time": "2022-11-21T05:45:39.770Z"
   },
   {
    "duration": 565,
    "start_time": "2022-11-21T05:47:21.747Z"
   },
   {
    "duration": 87132,
    "start_time": "2022-11-21T05:48:37.182Z"
   },
   {
    "duration": 66,
    "start_time": "2022-11-21T05:52:20.944Z"
   },
   {
    "duration": 61319,
    "start_time": "2022-11-21T05:53:30.834Z"
   },
   {
    "duration": 71,
    "start_time": "2022-11-21T05:56:08.300Z"
   },
   {
    "duration": 62740,
    "start_time": "2022-11-21T05:56:18.157Z"
   },
   {
    "duration": 15,
    "start_time": "2022-11-21T06:02:05.987Z"
   },
   {
    "duration": 15,
    "start_time": "2022-11-21T06:02:07.595Z"
   },
   {
    "duration": 152,
    "start_time": "2022-11-21T06:03:07.516Z"
   },
   {
    "duration": 12,
    "start_time": "2022-11-21T06:07:56.024Z"
   },
   {
    "duration": 1311,
    "start_time": "2022-11-21T06:09:07.889Z"
   },
   {
    "duration": 2581,
    "start_time": "2022-11-21T06:09:24.411Z"
   },
   {
    "duration": 56,
    "start_time": "2022-11-21T06:10:17.076Z"
   },
   {
    "duration": 560,
    "start_time": "2022-11-21T06:10:49.013Z"
   },
   {
    "duration": 65641,
    "start_time": "2022-11-21T06:12:10.910Z"
   },
   {
    "duration": 17162,
    "start_time": "2022-11-21T06:15:10.218Z"
   },
   {
    "duration": 60,
    "start_time": "2022-11-21T06:17:36.204Z"
   },
   {
    "duration": 53,
    "start_time": "2022-11-21T06:18:44.053Z"
   },
   {
    "duration": 1219,
    "start_time": "2022-11-21T06:19:08.021Z"
   },
   {
    "duration": 16,
    "start_time": "2022-11-21T06:22:22.105Z"
   },
   {
    "duration": 277,
    "start_time": "2022-11-21T06:23:15.787Z"
   },
   {
    "duration": 1359,
    "start_time": "2022-11-21T06:23:49.946Z"
   },
   {
    "duration": 1246,
    "start_time": "2022-11-21T06:24:00.562Z"
   },
   {
    "duration": 1389,
    "start_time": "2022-11-21T06:24:48.067Z"
   },
   {
    "duration": 18,
    "start_time": "2022-11-21T06:25:06.787Z"
   },
   {
    "duration": 297,
    "start_time": "2022-11-21T06:25:13.499Z"
   },
   {
    "duration": 257966,
    "start_time": "2022-11-21T06:33:03.984Z"
   },
   {
    "duration": 1526,
    "start_time": "2022-11-21T06:37:21.952Z"
   },
   {
    "duration": 482382,
    "start_time": "2022-11-21T06:37:45.135Z"
   },
   {
    "duration": 1170,
    "start_time": "2022-11-21T06:49:05.900Z"
   },
   {
    "duration": 6,
    "start_time": "2022-11-21T06:53:27.103Z"
   },
   {
    "duration": 43,
    "start_time": "2022-11-21T06:57:16.115Z"
   },
   {
    "duration": 296,
    "start_time": "2022-11-21T07:01:04.684Z"
   },
   {
    "duration": 7,
    "start_time": "2022-11-21T07:01:22.999Z"
   },
   {
    "duration": 811,
    "start_time": "2022-11-21T07:02:47.144Z"
   },
   {
    "duration": 816,
    "start_time": "2022-11-21T07:02:51.610Z"
   },
   {
    "duration": 1193,
    "start_time": "2022-11-21T07:03:10.369Z"
   },
   {
    "duration": 7,
    "start_time": "2022-11-21T07:03:13.984Z"
   },
   {
    "duration": 5,
    "start_time": "2022-11-21T07:08:52.702Z"
   },
   {
    "duration": 1146,
    "start_time": "2022-11-21T07:10:31.249Z"
   },
   {
    "duration": 5,
    "start_time": "2022-11-21T07:10:59.472Z"
   },
   {
    "duration": 1168,
    "start_time": "2022-11-21T07:11:08.290Z"
   },
   {
    "duration": 1054,
    "start_time": "2022-11-21T07:14:45.711Z"
   },
   {
    "duration": 881,
    "start_time": "2022-11-21T07:16:35.967Z"
   },
   {
    "duration": 1013,
    "start_time": "2022-11-21T07:17:03.856Z"
   },
   {
    "duration": 553,
    "start_time": "2022-11-21T07:21:27.285Z"
   },
   {
    "duration": 917,
    "start_time": "2022-11-21T07:26:54.292Z"
   },
   {
    "duration": 1089,
    "start_time": "2022-11-21T07:29:27.149Z"
   },
   {
    "duration": 6,
    "start_time": "2022-11-21T07:46:24.821Z"
   },
   {
    "duration": 180,
    "start_time": "2022-11-21T07:46:57.023Z"
   },
   {
    "duration": 1021,
    "start_time": "2022-11-21T07:47:12.823Z"
   },
   {
    "duration": 57,
    "start_time": "2022-11-21T08:56:38.888Z"
   },
   {
    "duration": 497641,
    "start_time": "2022-11-21T08:56:48.232Z"
   },
   {
    "duration": 51,
    "start_time": "2022-11-21T09:05:05.875Z"
   },
   {
    "duration": 10,
    "start_time": "2022-11-21T09:47:20.276Z"
   },
   {
    "duration": 10,
    "start_time": "2022-11-21T09:50:38.694Z"
   },
   {
    "duration": 30,
    "start_time": "2022-11-21T10:58:27.924Z"
   },
   {
    "duration": 31,
    "start_time": "2022-11-21T11:01:24.636Z"
   },
   {
    "duration": 73,
    "start_time": "2022-11-21T11:01:47.297Z"
   },
   {
    "duration": 75,
    "start_time": "2022-11-21T11:02:14.082Z"
   },
   {
    "duration": 31,
    "start_time": "2022-11-21T11:02:27.244Z"
   },
   {
    "duration": 32,
    "start_time": "2022-11-21T11:09:37.216Z"
   },
   {
    "duration": 712,
    "start_time": "2022-11-21T11:16:07.255Z"
   },
   {
    "duration": 33,
    "start_time": "2022-11-21T11:20:10.068Z"
   },
   {
    "duration": 135,
    "start_time": "2022-11-21T11:24:30.184Z"
   },
   {
    "duration": 131,
    "start_time": "2022-11-21T11:29:40.104Z"
   },
   {
    "duration": 27,
    "start_time": "2022-11-21T11:56:20.185Z"
   },
   {
    "duration": 518,
    "start_time": "2022-11-21T12:13:59.410Z"
   },
   {
    "duration": 644907,
    "start_time": "2022-11-21T12:16:36.358Z"
   },
   {
    "duration": 487,
    "start_time": "2022-11-21T12:27:21.267Z"
   },
   {
    "duration": 501,
    "start_time": "2022-11-21T12:29:31.306Z"
   },
   {
    "duration": 926,
    "start_time": "2022-11-21T12:31:20.549Z"
   },
   {
    "duration": 1008,
    "start_time": "2022-11-21T12:36:26.451Z"
   },
   {
    "duration": 1106,
    "start_time": "2022-11-21T12:36:45.847Z"
   },
   {
    "duration": 5,
    "start_time": "2022-11-21T12:37:54.948Z"
   },
   {
    "duration": 1512,
    "start_time": "2022-11-21T12:38:46.524Z"
   },
   {
    "duration": 47,
    "start_time": "2022-11-21T12:38:50.140Z"
   },
   {
    "duration": 15,
    "start_time": "2022-11-21T12:38:52.876Z"
   },
   {
    "duration": 5,
    "start_time": "2022-11-21T12:38:55.124Z"
   },
   {
    "duration": 27,
    "start_time": "2022-11-21T12:38:57.357Z"
   },
   {
    "duration": 28,
    "start_time": "2022-11-21T12:39:00.181Z"
   },
   {
    "duration": 5,
    "start_time": "2022-11-21T12:39:02.900Z"
   },
   {
    "duration": 5,
    "start_time": "2022-11-21T12:39:04.996Z"
   },
   {
    "duration": 6,
    "start_time": "2022-11-21T12:39:07.540Z"
   },
   {
    "duration": 4,
    "start_time": "2022-11-21T12:39:09.652Z"
   },
   {
    "duration": 5,
    "start_time": "2022-11-21T12:39:12.388Z"
   },
   {
    "duration": 5,
    "start_time": "2022-11-21T12:39:14.725Z"
   },
   {
    "duration": 6,
    "start_time": "2022-11-21T12:39:16.620Z"
   },
   {
    "duration": 11,
    "start_time": "2022-11-21T12:40:00.806Z"
   },
   {
    "duration": 11,
    "start_time": "2022-11-21T12:40:03.422Z"
   },
   {
    "duration": 4,
    "start_time": "2022-11-21T12:40:07.245Z"
   },
   {
    "duration": 6,
    "start_time": "2022-11-21T12:40:10.069Z"
   },
   {
    "duration": 12,
    "start_time": "2022-11-21T12:40:25.169Z"
   },
   {
    "duration": 47,
    "start_time": "2022-11-21T12:40:28.478Z"
   },
   {
    "duration": 134,
    "start_time": "2022-11-21T12:40:31.741Z"
   },
   {
    "duration": 391,
    "start_time": "2022-11-21T12:40:41.734Z"
   },
   {
    "duration": 259,
    "start_time": "2022-11-21T12:41:01.903Z"
   },
   {
    "duration": 368,
    "start_time": "2022-11-21T12:41:13.638Z"
   },
   {
    "duration": 780,
    "start_time": "2022-11-21T12:41:25.511Z"
   },
   {
    "duration": 42,
    "start_time": "2022-11-21T12:41:31.015Z"
   },
   {
    "duration": 19,
    "start_time": "2022-11-21T12:41:38.215Z"
   },
   {
    "duration": 108,
    "start_time": "2022-11-21T12:41:41.256Z"
   },
   {
    "duration": 59,
    "start_time": "2022-11-21T12:41:43.734Z"
   },
   {
    "duration": 1462,
    "start_time": "2022-11-21T12:41:45.889Z"
   },
   {
    "duration": 11,
    "start_time": "2022-11-21T12:41:49.551Z"
   },
   {
    "duration": 24,
    "start_time": "2022-11-21T12:41:52.326Z"
   },
   {
    "duration": 17,
    "start_time": "2022-11-21T12:41:54.080Z"
   },
   {
    "duration": 301,
    "start_time": "2022-11-21T12:41:56.639Z"
   },
   {
    "duration": 1667,
    "start_time": "2022-11-21T12:41:58.822Z"
   },
   {
    "duration": 627369,
    "start_time": "2022-11-21T12:42:06.212Z"
   },
   {
    "duration": 11,
    "start_time": "2022-11-21T12:52:33.583Z"
   },
   {
    "duration": 963,
    "start_time": "2022-11-21T12:52:54.827Z"
   },
   {
    "duration": 945,
    "start_time": "2022-11-21T12:53:02.213Z"
   },
   {
    "duration": 75,
    "start_time": "2022-11-21T12:53:45.484Z"
   },
   {
    "duration": 78,
    "start_time": "2022-11-21T12:53:51.308Z"
   },
   {
    "duration": 895,
    "start_time": "2022-11-21T12:53:56.379Z"
   },
   {
    "duration": 1031,
    "start_time": "2022-11-21T12:54:12.516Z"
   },
   {
    "duration": 1010,
    "start_time": "2022-11-21T12:55:27.174Z"
   },
   {
    "duration": 1020,
    "start_time": "2022-11-21T13:04:52.600Z"
   },
   {
    "duration": 1044,
    "start_time": "2022-11-21T13:05:14.999Z"
   },
   {
    "duration": 95,
    "start_time": "2022-11-21T13:26:38.222Z"
   },
   {
    "duration": 1561,
    "start_time": "2022-11-22T05:47:25.537Z"
   },
   {
    "duration": 167,
    "start_time": "2022-11-22T05:47:28.439Z"
   },
   {
    "duration": 5,
    "start_time": "2022-11-22T05:48:38.415Z"
   },
   {
    "duration": 28,
    "start_time": "2022-11-22T05:49:09.582Z"
   },
   {
    "duration": 28,
    "start_time": "2022-11-22T05:49:14.377Z"
   },
   {
    "duration": 5,
    "start_time": "2022-11-22T05:49:18.985Z"
   },
   {
    "duration": 4,
    "start_time": "2022-11-22T05:49:24.519Z"
   },
   {
    "duration": 5,
    "start_time": "2022-11-22T05:49:26.801Z"
   },
   {
    "duration": 4,
    "start_time": "2022-11-22T05:49:28.416Z"
   },
   {
    "duration": 5,
    "start_time": "2022-11-22T05:49:30.097Z"
   },
   {
    "duration": 5,
    "start_time": "2022-11-22T05:49:36.685Z"
   },
   {
    "duration": 5,
    "start_time": "2022-11-22T05:49:40.688Z"
   },
   {
    "duration": 11,
    "start_time": "2022-11-22T05:49:48.985Z"
   },
   {
    "duration": 10,
    "start_time": "2022-11-22T05:49:50.913Z"
   },
   {
    "duration": 5,
    "start_time": "2022-11-22T05:50:04.640Z"
   },
   {
    "duration": 9,
    "start_time": "2022-11-22T05:50:07.337Z"
   },
   {
    "duration": 4,
    "start_time": "2022-11-22T05:50:13.282Z"
   },
   {
    "duration": 6,
    "start_time": "2022-11-22T05:50:15.232Z"
   },
   {
    "duration": 9,
    "start_time": "2022-11-22T05:50:17.121Z"
   },
   {
    "duration": 31,
    "start_time": "2022-11-22T05:50:27.609Z"
   },
   {
    "duration": 117,
    "start_time": "2022-11-22T05:50:33.625Z"
   },
   {
    "duration": 167,
    "start_time": "2022-11-22T05:50:53.986Z"
   },
   {
    "duration": 288,
    "start_time": "2022-11-22T05:50:57.489Z"
   },
   {
    "duration": 184,
    "start_time": "2022-11-22T05:51:08.770Z"
   },
   {
    "duration": 284,
    "start_time": "2022-11-22T05:51:12.098Z"
   },
   {
    "duration": 103,
    "start_time": "2022-11-22T05:54:17.629Z"
   },
   {
    "duration": 707,
    "start_time": "2022-11-22T05:54:25.685Z"
   },
   {
    "duration": 57,
    "start_time": "2022-11-22T05:54:28.101Z"
   },
   {
    "duration": 14,
    "start_time": "2022-11-22T05:54:30.053Z"
   },
   {
    "duration": 41,
    "start_time": "2022-11-22T05:54:32.326Z"
   },
   {
    "duration": 57,
    "start_time": "2022-11-22T05:54:42.806Z"
   },
   {
    "duration": 296,
    "start_time": "2022-11-22T05:54:44.669Z"
   },
   {
    "duration": 622,
    "start_time": "2022-11-22T05:54:50.253Z"
   },
   {
    "duration": 21,
    "start_time": "2022-11-22T05:54:59.902Z"
   },
   {
    "duration": 15,
    "start_time": "2022-11-22T05:55:07.222Z"
   },
   {
    "duration": 13,
    "start_time": "2022-11-22T05:55:24.327Z"
   },
   {
    "duration": 74,
    "start_time": "2022-11-22T05:55:28.478Z"
   },
   {
    "duration": 48,
    "start_time": "2022-11-22T05:55:33.214Z"
   },
   {
    "duration": 1296,
    "start_time": "2022-11-22T05:55:39.038Z"
   },
   {
    "duration": 75,
    "start_time": "2022-11-22T05:55:54.593Z"
   },
   {
    "duration": 11,
    "start_time": "2022-11-22T05:55:59.423Z"
   },
   {
    "duration": 17,
    "start_time": "2022-11-22T05:56:01.047Z"
   },
   {
    "duration": 16,
    "start_time": "2022-11-22T05:56:07.654Z"
   },
   {
    "duration": 266,
    "start_time": "2022-11-22T05:56:12.816Z"
   },
   {
    "duration": 277,
    "start_time": "2022-11-22T05:56:49.455Z"
   },
   {
    "duration": 1361,
    "start_time": "2022-11-22T05:58:11.513Z"
   },
   {
    "duration": 553785,
    "start_time": "2022-11-22T05:58:28.082Z"
   },
   {
    "duration": 107,
    "start_time": "2022-11-22T06:07:41.869Z"
   },
   {
    "duration": 0,
    "start_time": "2022-11-22T06:07:41.978Z"
   },
   {
    "duration": 826,
    "start_time": "2022-11-22T06:14:43.081Z"
   },
   {
    "duration": 71,
    "start_time": "2022-11-22T06:22:31.585Z"
   },
   {
    "duration": 1327,
    "start_time": "2022-11-22T06:47:12.273Z"
   },
   {
    "duration": 44,
    "start_time": "2022-11-22T06:47:14.975Z"
   },
   {
    "duration": 13,
    "start_time": "2022-11-22T06:47:16.376Z"
   },
   {
    "duration": 22,
    "start_time": "2022-11-22T06:47:19.024Z"
   },
   {
    "duration": 22,
    "start_time": "2022-11-22T06:47:20.736Z"
   },
   {
    "duration": 4,
    "start_time": "2022-11-22T06:47:22.976Z"
   },
   {
    "duration": 5,
    "start_time": "2022-11-22T06:47:25.016Z"
   },
   {
    "duration": 3,
    "start_time": "2022-11-22T06:47:27.048Z"
   },
   {
    "duration": 3,
    "start_time": "2022-11-22T06:47:28.552Z"
   },
   {
    "duration": 5,
    "start_time": "2022-11-22T06:47:30.624Z"
   },
   {
    "duration": 6,
    "start_time": "2022-11-22T06:47:31.999Z"
   },
   {
    "duration": 9,
    "start_time": "2022-11-22T06:47:34.425Z"
   },
   {
    "duration": 11,
    "start_time": "2022-11-22T06:47:36.240Z"
   },
   {
    "duration": 4,
    "start_time": "2022-11-22T06:47:37.855Z"
   },
   {
    "duration": 6,
    "start_time": "2022-11-22T06:47:40.255Z"
   },
   {
    "duration": 14,
    "start_time": "2022-11-22T06:47:42.584Z"
   },
   {
    "duration": 41,
    "start_time": "2022-11-22T06:47:44.479Z"
   },
   {
    "duration": 113,
    "start_time": "2022-11-22T06:47:46.616Z"
   },
   {
    "duration": 1136,
    "start_time": "2022-11-22T06:47:52.020Z"
   },
   {
    "duration": 289,
    "start_time": "2022-11-22T06:47:56.424Z"
   },
   {
    "duration": 691,
    "start_time": "2022-11-22T06:47:58.841Z"
   },
   {
    "duration": 26,
    "start_time": "2022-11-22T06:48:01.504Z"
   },
   {
    "duration": 14,
    "start_time": "2022-11-22T06:48:03.433Z"
   },
   {
    "duration": 38,
    "start_time": "2022-11-22T06:48:10.984Z"
   },
   {
    "duration": 53,
    "start_time": "2022-11-22T06:48:15.120Z"
   },
   {
    "duration": 1198,
    "start_time": "2022-11-22T06:48:17.210Z"
   },
   {
    "duration": 11,
    "start_time": "2022-11-22T06:48:19.505Z"
   },
   {
    "duration": 75,
    "start_time": "2022-11-22T06:48:21.277Z"
   },
   {
    "duration": 15,
    "start_time": "2022-11-22T06:48:23.276Z"
   },
   {
    "duration": 274,
    "start_time": "2022-11-22T06:48:25.033Z"
   },
   {
    "duration": 1414,
    "start_time": "2022-11-22T06:48:26.849Z"
   },
   {
    "duration": 556798,
    "start_time": "2022-11-22T06:48:31.523Z"
   },
   {
    "duration": 12,
    "start_time": "2022-11-22T06:57:48.323Z"
   },
   {
    "duration": 18,
    "start_time": "2022-11-22T06:57:48.337Z"
   },
   {
    "duration": 13,
    "start_time": "2022-11-22T06:59:30.916Z"
   },
   {
    "duration": 1384,
    "start_time": "2022-11-22T06:59:42.325Z"
   },
   {
    "duration": 40,
    "start_time": "2022-11-22T06:59:45.932Z"
   },
   {
    "duration": 14,
    "start_time": "2022-11-22T06:59:47.323Z"
   },
   {
    "duration": 5,
    "start_time": "2022-11-22T06:59:49.716Z"
   },
   {
    "duration": 20,
    "start_time": "2022-11-22T06:59:51.277Z"
   },
   {
    "duration": 20,
    "start_time": "2022-11-22T06:59:56.197Z"
   },
   {
    "duration": 4,
    "start_time": "2022-11-22T06:59:58.476Z"
   },
   {
    "duration": 4,
    "start_time": "2022-11-22T07:00:00.204Z"
   },
   {
    "duration": 5,
    "start_time": "2022-11-22T07:00:02.668Z"
   },
   {
    "duration": 4,
    "start_time": "2022-11-22T07:00:04.242Z"
   },
   {
    "duration": 4,
    "start_time": "2022-11-22T07:00:06.093Z"
   },
   {
    "duration": 4,
    "start_time": "2022-11-22T07:00:08.261Z"
   },
   {
    "duration": 5,
    "start_time": "2022-11-22T07:00:09.845Z"
   },
   {
    "duration": 14,
    "start_time": "2022-11-22T07:00:11.836Z"
   },
   {
    "duration": 15,
    "start_time": "2022-11-22T07:00:13.406Z"
   },
   {
    "duration": 4,
    "start_time": "2022-11-22T07:00:15.670Z"
   },
   {
    "duration": 7,
    "start_time": "2022-11-22T07:00:17.301Z"
   },
   {
    "duration": 13,
    "start_time": "2022-11-22T07:00:19.117Z"
   },
   {
    "duration": 44,
    "start_time": "2022-11-22T07:00:21.222Z"
   },
   {
    "duration": 139,
    "start_time": "2022-11-22T07:00:23.781Z"
   },
   {
    "duration": 112,
    "start_time": "2022-11-22T07:00:26.541Z"
   },
   {
    "duration": 293,
    "start_time": "2022-11-22T07:00:28.894Z"
   },
   {
    "duration": 648,
    "start_time": "2022-11-22T07:00:30.862Z"
   },
   {
    "duration": 22,
    "start_time": "2022-11-22T07:00:33.645Z"
   },
   {
    "duration": 14,
    "start_time": "2022-11-22T07:00:35.573Z"
   },
   {
    "duration": 40,
    "start_time": "2022-11-22T07:00:37.709Z"
   },
   {
    "duration": 49,
    "start_time": "2022-11-22T07:00:39.902Z"
   },
   {
    "duration": 1304,
    "start_time": "2022-11-22T07:00:41.790Z"
   },
   {
    "duration": 12,
    "start_time": "2022-11-22T07:00:44.799Z"
   },
   {
    "duration": 67,
    "start_time": "2022-11-22T07:00:47.086Z"
   },
   {
    "duration": 17,
    "start_time": "2022-11-22T07:00:48.622Z"
   },
   {
    "duration": 324,
    "start_time": "2022-11-22T07:00:50.534Z"
   },
   {
    "duration": 1344,
    "start_time": "2022-11-22T07:00:52.630Z"
   },
   {
    "duration": 557173,
    "start_time": "2022-11-22T07:00:56.398Z"
   },
   {
    "duration": 1146,
    "start_time": "2022-11-22T07:12:34.091Z"
   },
   {
    "duration": 124,
    "start_time": "2022-11-22T07:12:37.578Z"
   },
   {
    "duration": 4,
    "start_time": "2022-11-22T07:14:27.829Z"
   },
   {
    "duration": 6,
    "start_time": "2022-11-22T07:14:33.380Z"
   },
   {
    "duration": 935,
    "start_time": "2022-11-22T07:14:38.836Z"
   },
   {
    "duration": 975,
    "start_time": "2022-11-22T07:14:44.308Z"
   },
   {
    "duration": 48,
    "start_time": "2022-11-23T05:40:33.753Z"
   },
   {
    "duration": 1609,
    "start_time": "2022-11-23T05:41:15.271Z"
   },
   {
    "duration": 150,
    "start_time": "2022-11-23T05:41:18.410Z"
   },
   {
    "duration": 14,
    "start_time": "2022-11-23T05:41:19.974Z"
   },
   {
    "duration": 7,
    "start_time": "2022-11-23T05:41:22.359Z"
   },
   {
    "duration": 18,
    "start_time": "2022-11-23T05:41:23.984Z"
   },
   {
    "duration": 22,
    "start_time": "2022-11-23T05:41:26.695Z"
   },
   {
    "duration": 4,
    "start_time": "2022-11-23T05:41:28.952Z"
   },
   {
    "duration": 4,
    "start_time": "2022-11-23T05:41:32.127Z"
   },
   {
    "duration": 5,
    "start_time": "2022-11-23T05:41:33.943Z"
   },
   {
    "duration": 4,
    "start_time": "2022-11-23T05:41:35.998Z"
   },
   {
    "duration": 4,
    "start_time": "2022-11-23T05:41:37.736Z"
   },
   {
    "duration": 6,
    "start_time": "2022-11-23T05:41:40.055Z"
   },
   {
    "duration": 5,
    "start_time": "2022-11-23T05:41:41.655Z"
   },
   {
    "duration": 9,
    "start_time": "2022-11-23T05:41:49.351Z"
   },
   {
    "duration": 10,
    "start_time": "2022-11-23T05:41:53.312Z"
   },
   {
    "duration": 3,
    "start_time": "2022-11-23T05:41:55.208Z"
   },
   {
    "duration": 7,
    "start_time": "2022-11-23T05:41:57.030Z"
   },
   {
    "duration": 9,
    "start_time": "2022-11-23T05:41:59.432Z"
   },
   {
    "duration": 38,
    "start_time": "2022-11-23T05:42:10.344Z"
   },
   {
    "duration": 123,
    "start_time": "2022-11-23T05:42:25.928Z"
   },
   {
    "duration": 172,
    "start_time": "2022-11-23T05:42:35.538Z"
   },
   {
    "duration": 311,
    "start_time": "2022-11-23T05:42:37.416Z"
   },
   {
    "duration": 695,
    "start_time": "2022-11-23T05:42:41.000Z"
   },
   {
    "duration": 29,
    "start_time": "2022-11-23T05:42:43.714Z"
   },
   {
    "duration": 14,
    "start_time": "2022-11-23T05:42:48.967Z"
   },
   {
    "duration": 108,
    "start_time": "2022-11-23T05:42:51.480Z"
   },
   {
    "duration": 30,
    "start_time": "2022-11-23T05:44:06.890Z"
   },
   {
    "duration": 97,
    "start_time": "2022-11-23T05:44:09.875Z"
   },
   {
    "duration": 23,
    "start_time": "2022-11-23T05:47:14.573Z"
   },
   {
    "duration": 15,
    "start_time": "2022-11-23T05:47:43.110Z"
   },
   {
    "duration": 11,
    "start_time": "2022-11-23T05:48:49.251Z"
   },
   {
    "duration": 136,
    "start_time": "2022-11-23T05:51:38.250Z"
   },
   {
    "duration": 14,
    "start_time": "2022-11-23T05:51:57.514Z"
   },
   {
    "duration": 16,
    "start_time": "2022-11-23T05:52:42.147Z"
   },
   {
    "duration": 16,
    "start_time": "2022-11-23T05:52:46.139Z"
   },
   {
    "duration": 15,
    "start_time": "2022-11-23T05:52:49.058Z"
   },
   {
    "duration": 13,
    "start_time": "2022-11-23T05:52:53.419Z"
   },
   {
    "duration": 71,
    "start_time": "2022-11-23T05:58:22.072Z"
   },
   {
    "duration": 13,
    "start_time": "2022-11-23T05:58:44.241Z"
   },
   {
    "duration": 90,
    "start_time": "2022-11-23T05:59:08.450Z"
   },
   {
    "duration": 1338,
    "start_time": "2022-11-23T06:39:01.363Z"
   },
   {
    "duration": 44,
    "start_time": "2022-11-23T06:39:04.154Z"
   },
   {
    "duration": 14,
    "start_time": "2022-11-23T06:39:06.107Z"
   },
   {
    "duration": 5,
    "start_time": "2022-11-23T06:39:08.339Z"
   },
   {
    "duration": 19,
    "start_time": "2022-11-23T06:39:12.746Z"
   },
   {
    "duration": 24,
    "start_time": "2022-11-23T06:39:15.036Z"
   },
   {
    "duration": 5,
    "start_time": "2022-11-23T06:39:17.299Z"
   },
   {
    "duration": 4,
    "start_time": "2022-11-23T06:39:20.299Z"
   },
   {
    "duration": 3,
    "start_time": "2022-11-23T06:39:22.739Z"
   },
   {
    "duration": 1375,
    "start_time": "2022-11-23T06:58:19.877Z"
   },
   {
    "duration": 40,
    "start_time": "2022-11-23T06:58:22.813Z"
   },
   {
    "duration": 13,
    "start_time": "2022-11-23T06:58:24.349Z"
   },
   {
    "duration": 5,
    "start_time": "2022-11-23T06:58:26.413Z"
   },
   {
    "duration": 27,
    "start_time": "2022-11-23T06:58:28.454Z"
   },
   {
    "duration": 24,
    "start_time": "2022-11-23T06:58:30.573Z"
   },
   {
    "duration": 4,
    "start_time": "2022-11-23T06:58:33.221Z"
   },
   {
    "duration": 5,
    "start_time": "2022-11-23T06:58:36.301Z"
   },
   {
    "duration": 6,
    "start_time": "2022-11-23T06:58:38.628Z"
   },
   {
    "duration": 3,
    "start_time": "2022-11-23T06:58:41.485Z"
   },
   {
    "duration": 4,
    "start_time": "2022-11-23T06:58:43.677Z"
   },
   {
    "duration": 6,
    "start_time": "2022-11-23T06:59:45.119Z"
   },
   {
    "duration": 10,
    "start_time": "2022-11-23T06:59:57.822Z"
   },
   {
    "duration": 11,
    "start_time": "2022-11-23T07:00:04.887Z"
   },
   {
    "duration": 7,
    "start_time": "2022-11-23T07:00:07.518Z"
   },
   {
    "duration": 6,
    "start_time": "2022-11-23T07:00:09.479Z"
   },
   {
    "duration": 13,
    "start_time": "2022-11-23T07:00:11.991Z"
   },
   {
    "duration": 30,
    "start_time": "2022-11-23T07:01:54.609Z"
   },
   {
    "duration": 122,
    "start_time": "2022-11-23T07:02:29.057Z"
   },
   {
    "duration": 1290,
    "start_time": "2022-11-23T07:08:37.031Z"
   },
   {
    "duration": 115,
    "start_time": "2022-11-23T07:08:55.273Z"
   },
   {
    "duration": 114,
    "start_time": "2022-11-23T07:10:00.313Z"
   },
   {
    "duration": 125,
    "start_time": "2022-11-23T07:10:16.562Z"
   },
   {
    "duration": 178,
    "start_time": "2022-11-23T07:10:24.177Z"
   },
   {
    "duration": 132,
    "start_time": "2022-11-23T07:12:34.939Z"
   },
   {
    "duration": 141,
    "start_time": "2022-11-23T07:13:12.980Z"
   },
   {
    "duration": 164,
    "start_time": "2022-11-23T07:14:37.150Z"
   },
   {
    "duration": 171,
    "start_time": "2022-11-23T07:15:03.262Z"
   },
   {
    "duration": 94,
    "start_time": "2022-11-23T07:15:45.894Z"
   },
   {
    "duration": 257,
    "start_time": "2022-11-23T07:16:03.566Z"
   },
   {
    "duration": 416,
    "start_time": "2022-11-23T07:16:15.526Z"
   },
   {
    "duration": 1262,
    "start_time": "2022-11-23T07:16:25.375Z"
   },
   {
    "duration": 141,
    "start_time": "2022-11-23T07:16:31.830Z"
   },
   {
    "duration": 141,
    "start_time": "2022-11-23T07:21:30.220Z"
   },
   {
    "duration": 150,
    "start_time": "2022-11-23T07:23:14.870Z"
   },
   {
    "duration": 149,
    "start_time": "2022-11-23T07:23:20.733Z"
   },
   {
    "duration": 250,
    "start_time": "2022-11-23T07:23:37.478Z"
   },
   {
    "duration": 160,
    "start_time": "2022-11-23T07:24:02.038Z"
   },
   {
    "duration": 145,
    "start_time": "2022-11-23T07:24:38.287Z"
   },
   {
    "duration": 152,
    "start_time": "2022-11-23T07:24:55.665Z"
   },
   {
    "duration": 151,
    "start_time": "2022-11-23T07:25:52.120Z"
   },
   {
    "duration": 144,
    "start_time": "2022-11-23T07:26:03.160Z"
   },
   {
    "duration": 131,
    "start_time": "2022-11-23T07:26:34.930Z"
   },
   {
    "duration": 137,
    "start_time": "2022-11-23T07:26:41.593Z"
   },
   {
    "duration": 152,
    "start_time": "2022-11-23T07:26:47.232Z"
   },
   {
    "duration": 127,
    "start_time": "2022-11-23T07:26:59.657Z"
   },
   {
    "duration": 126,
    "start_time": "2022-11-23T07:27:03.592Z"
   },
   {
    "duration": 139,
    "start_time": "2022-11-23T07:27:10.953Z"
   },
   {
    "duration": 143,
    "start_time": "2022-11-23T07:27:29.426Z"
   },
   {
    "duration": 125,
    "start_time": "2022-11-23T07:27:36.593Z"
   },
   {
    "duration": 255,
    "start_time": "2022-11-23T07:27:47.962Z"
   },
   {
    "duration": 145,
    "start_time": "2022-11-23T07:28:05.851Z"
   },
   {
    "duration": 90,
    "start_time": "2022-11-23T07:28:17.276Z"
   },
   {
    "duration": 132,
    "start_time": "2022-11-23T07:28:20.602Z"
   },
   {
    "duration": 121,
    "start_time": "2022-11-23T07:28:47.676Z"
   },
   {
    "duration": 135,
    "start_time": "2022-11-23T07:29:06.132Z"
   },
   {
    "duration": 128,
    "start_time": "2022-11-23T07:29:12.556Z"
   },
   {
    "duration": 127,
    "start_time": "2022-11-23T07:29:39.917Z"
   },
   {
    "duration": 128,
    "start_time": "2022-11-23T07:29:44.836Z"
   },
   {
    "duration": 125,
    "start_time": "2022-11-23T07:29:48.748Z"
   },
   {
    "duration": 130,
    "start_time": "2022-11-23T07:29:51.876Z"
   },
   {
    "duration": 221,
    "start_time": "2022-11-23T07:29:57.837Z"
   },
   {
    "duration": 132,
    "start_time": "2022-11-23T07:30:14.869Z"
   },
   {
    "duration": 121,
    "start_time": "2022-11-23T07:32:05.375Z"
   },
   {
    "duration": 141,
    "start_time": "2022-11-23T07:32:10.582Z"
   },
   {
    "duration": 82,
    "start_time": "2022-11-23T07:32:22.632Z"
   },
   {
    "duration": 238,
    "start_time": "2022-11-23T07:32:26.183Z"
   },
   {
    "duration": 125,
    "start_time": "2022-11-23T07:32:57.856Z"
   },
   {
    "duration": 123,
    "start_time": "2022-11-23T07:33:03.127Z"
   },
   {
    "duration": 133,
    "start_time": "2022-11-23T07:34:02.447Z"
   },
   {
    "duration": 121,
    "start_time": "2022-11-23T07:34:13.137Z"
   },
   {
    "duration": 132,
    "start_time": "2022-11-23T07:34:20.713Z"
   },
   {
    "duration": 128,
    "start_time": "2022-11-23T07:34:34.265Z"
   },
   {
    "duration": 131,
    "start_time": "2022-11-23T07:34:40.241Z"
   },
   {
    "duration": 168,
    "start_time": "2022-11-23T07:34:47.265Z"
   },
   {
    "duration": 129,
    "start_time": "2022-11-23T07:34:58.322Z"
   },
   {
    "duration": 124,
    "start_time": "2022-11-23T07:35:08.922Z"
   },
   {
    "duration": 133,
    "start_time": "2022-11-23T07:35:15.218Z"
   },
   {
    "duration": 159,
    "start_time": "2022-11-23T07:35:20.778Z"
   },
   {
    "duration": 146,
    "start_time": "2022-11-23T07:35:28.595Z"
   },
   {
    "duration": 229,
    "start_time": "2022-11-23T07:35:40.051Z"
   },
   {
    "duration": 144,
    "start_time": "2022-11-23T07:36:22.092Z"
   },
   {
    "duration": 126,
    "start_time": "2022-11-23T07:36:39.891Z"
   },
   {
    "duration": 140,
    "start_time": "2022-11-23T07:38:03.182Z"
   },
   {
    "duration": 149,
    "start_time": "2022-11-23T07:38:07.238Z"
   },
   {
    "duration": 7,
    "start_time": "2022-11-23T07:40:54.680Z"
   },
   {
    "duration": 111,
    "start_time": "2022-11-23T07:45:29.164Z"
   },
   {
    "duration": 70,
    "start_time": "2022-11-23T07:45:35.437Z"
   },
   {
    "duration": 10,
    "start_time": "2022-11-23T07:45:52.741Z"
   },
   {
    "duration": 10,
    "start_time": "2022-11-23T07:45:59.789Z"
   },
   {
    "duration": 37,
    "start_time": "2022-11-23T07:46:18.630Z"
   },
   {
    "duration": 751,
    "start_time": "2022-11-23T07:47:28.487Z"
   },
   {
    "duration": 338,
    "start_time": "2022-11-23T07:50:05.769Z"
   },
   {
    "duration": 677,
    "start_time": "2022-11-23T07:51:13.106Z"
   },
   {
    "duration": 89,
    "start_time": "2022-11-23T07:57:53.162Z"
   },
   {
    "duration": 326002,
    "start_time": "2022-11-23T08:00:24.692Z"
   },
   {
    "duration": 46522,
    "start_time": "2022-11-23T08:18:55.102Z"
   },
   {
    "duration": 15629,
    "start_time": "2022-11-23T08:20:09.601Z"
   },
   {
    "duration": 15676,
    "start_time": "2022-11-23T08:28:28.393Z"
   },
   {
    "duration": 136,
    "start_time": "2022-11-23T08:40:57.522Z"
   },
   {
    "duration": 4,
    "start_time": "2022-11-23T08:41:30.248Z"
   },
   {
    "duration": 1527,
    "start_time": "2022-11-23T08:41:58.294Z"
   },
   {
    "duration": 1424,
    "start_time": "2022-11-23T08:47:10.266Z"
   },
   {
    "duration": 40,
    "start_time": "2022-11-23T08:47:12.422Z"
   },
   {
    "duration": 14,
    "start_time": "2022-11-23T08:47:14.298Z"
   },
   {
    "duration": 5,
    "start_time": "2022-11-23T08:47:16.770Z"
   },
   {
    "duration": 21,
    "start_time": "2022-11-23T08:47:18.755Z"
   },
   {
    "duration": 38,
    "start_time": "2022-11-23T08:47:21.515Z"
   },
   {
    "duration": 5,
    "start_time": "2022-11-23T08:47:24.242Z"
   },
   {
    "duration": 5,
    "start_time": "2022-11-23T08:47:27.587Z"
   },
   {
    "duration": 4,
    "start_time": "2022-11-23T08:47:29.625Z"
   },
   {
    "duration": 5,
    "start_time": "2022-11-23T08:47:31.658Z"
   },
   {
    "duration": 4,
    "start_time": "2022-11-23T08:47:33.370Z"
   },
   {
    "duration": 5,
    "start_time": "2022-11-23T08:47:36.482Z"
   },
   {
    "duration": 10,
    "start_time": "2022-11-23T08:50:12.853Z"
   },
   {
    "duration": 10,
    "start_time": "2022-11-23T08:50:14.878Z"
   },
   {
    "duration": 5,
    "start_time": "2022-11-23T08:50:17.582Z"
   },
   {
    "duration": 6,
    "start_time": "2022-11-23T08:50:19.845Z"
   },
   {
    "duration": 9,
    "start_time": "2022-11-23T08:50:21.854Z"
   },
   {
    "duration": 41,
    "start_time": "2022-11-23T08:50:24.702Z"
   },
   {
    "duration": 7,
    "start_time": "2022-11-23T08:50:28.166Z"
   },
   {
    "duration": 171,
    "start_time": "2022-11-23T08:50:31.063Z"
   },
   {
    "duration": 433,
    "start_time": "2022-11-23T08:51:17.472Z"
   },
   {
    "duration": 320,
    "start_time": "2022-11-23T08:51:21.966Z"
   },
   {
    "duration": 730,
    "start_time": "2022-11-23T08:51:25.135Z"
   },
   {
    "duration": 868,
    "start_time": "2022-11-23T08:54:33.627Z"
   },
   {
    "duration": 231,
    "start_time": "2022-11-23T08:55:02.330Z"
   },
   {
    "duration": 365,
    "start_time": "2022-11-23T08:55:27.131Z"
   },
   {
    "duration": 8373,
    "start_time": "2022-11-23T08:56:11.172Z"
   },
   {
    "duration": 79,
    "start_time": "2022-11-23T08:59:29.736Z"
   },
   {
    "duration": 726,
    "start_time": "2022-11-23T08:59:39.752Z"
   },
   {
    "duration": 39,
    "start_time": "2022-11-23T09:00:01.568Z"
   },
   {
    "duration": 332,
    "start_time": "2022-11-23T09:00:03.520Z"
   },
   {
    "duration": 740,
    "start_time": "2022-11-23T09:00:05.647Z"
   },
   {
    "duration": 15957,
    "start_time": "2022-11-23T09:00:08.152Z"
   },
   {
    "duration": 14,
    "start_time": "2022-11-23T09:00:33.521Z"
   },
   {
    "duration": 46,
    "start_time": "2022-11-23T09:00:37.888Z"
   },
   {
    "duration": 44,
    "start_time": "2022-11-23T09:00:39.905Z"
   },
   {
    "duration": 21658,
    "start_time": "2022-11-23T09:00:45.625Z"
   },
   {
    "duration": 108294,
    "start_time": "2022-11-23T09:01:42.321Z"
   },
   {
    "duration": 62066,
    "start_time": "2022-11-23T09:04:09.524Z"
   },
   {
    "duration": 14,
    "start_time": "2022-11-23T09:05:46.534Z"
   },
   {
    "duration": 62233,
    "start_time": "2022-11-23T09:08:54.033Z"
   },
   {
    "duration": 14,
    "start_time": "2022-11-23T09:12:34.141Z"
   },
   {
    "duration": 18,
    "start_time": "2022-11-23T09:12:37.021Z"
   },
   {
    "duration": 22,
    "start_time": "2022-11-23T09:12:39.341Z"
   },
   {
    "duration": 448,
    "start_time": "2022-11-23T09:12:41.677Z"
   },
   {
    "duration": 1144,
    "start_time": "2022-11-23T09:14:45.535Z"
   },
   {
    "duration": 1229,
    "start_time": "2022-11-23T09:15:02.096Z"
   },
   {
    "duration": 1296,
    "start_time": "2022-11-23T10:02:19.521Z"
   },
   {
    "duration": 1022,
    "start_time": "2022-11-23T10:02:34.783Z"
   },
   {
    "duration": 1181,
    "start_time": "2022-11-23T10:02:42.247Z"
   },
   {
    "duration": 12,
    "start_time": "2022-11-23T10:32:52.822Z"
   },
   {
    "duration": 177,
    "start_time": "2022-11-23T10:33:00.135Z"
   },
   {
    "duration": 274,
    "start_time": "2022-11-23T10:33:33.039Z"
   },
   {
    "duration": 1160,
    "start_time": "2022-11-23T11:12:06.598Z"
   },
   {
    "duration": 10,
    "start_time": "2022-11-23T11:17:13.338Z"
   },
   {
    "duration": 1165,
    "start_time": "2022-11-23T11:18:36.501Z"
   },
   {
    "duration": 1135,
    "start_time": "2022-11-23T11:18:54.769Z"
   },
   {
    "duration": 1072,
    "start_time": "2022-11-23T11:20:26.286Z"
   },
   {
    "duration": 45,
    "start_time": "2022-11-23T11:30:47.912Z"
   },
   {
    "duration": 60860,
    "start_time": "2022-11-23T11:32:55.059Z"
   },
   {
    "duration": 58176,
    "start_time": "2022-11-23T13:55:56.652Z"
   },
   {
    "duration": 759375,
    "start_time": "2022-11-23T14:00:02.705Z"
   },
   {
    "duration": 557,
    "start_time": "2022-11-23T14:12:42.082Z"
   },
   {
    "duration": 609,
    "start_time": "2022-11-23T14:12:42.640Z"
   },
   {
    "duration": 614,
    "start_time": "2022-11-23T14:13:11.974Z"
   },
   {
    "duration": 182612,
    "start_time": "2022-11-23T14:13:57.206Z"
   },
   {
    "duration": 84,
    "start_time": "2022-11-23T14:27:25.532Z"
   },
   {
    "duration": 1659,
    "start_time": "2022-11-24T09:18:50.786Z"
   },
   {
    "duration": 78,
    "start_time": "2022-11-24T09:18:54.449Z"
   },
   {
    "duration": 16,
    "start_time": "2022-11-24T09:18:56.041Z"
   },
   {
    "duration": 5,
    "start_time": "2022-11-24T09:18:58.286Z"
   },
   {
    "duration": 20,
    "start_time": "2022-11-24T09:19:00.070Z"
   },
   {
    "duration": 24,
    "start_time": "2022-11-24T09:19:02.322Z"
   },
   {
    "duration": 4,
    "start_time": "2022-11-24T09:19:04.618Z"
   },
   {
    "duration": 3,
    "start_time": "2022-11-24T09:19:07.050Z"
   },
   {
    "duration": 5,
    "start_time": "2022-11-24T09:19:09.409Z"
   },
   {
    "duration": 3,
    "start_time": "2022-11-24T09:19:11.537Z"
   },
   {
    "duration": 4,
    "start_time": "2022-11-24T09:19:13.522Z"
   },
   {
    "duration": 5,
    "start_time": "2022-11-24T09:19:15.385Z"
   },
   {
    "duration": 11,
    "start_time": "2022-11-24T09:19:21.857Z"
   },
   {
    "duration": 11,
    "start_time": "2022-11-24T09:19:24.714Z"
   },
   {
    "duration": 4,
    "start_time": "2022-11-24T09:19:26.913Z"
   },
   {
    "duration": 6,
    "start_time": "2022-11-24T09:19:28.687Z"
   },
   {
    "duration": 11,
    "start_time": "2022-11-24T09:19:30.488Z"
   },
   {
    "duration": 32,
    "start_time": "2022-11-24T09:19:59.147Z"
   },
   {
    "duration": 5,
    "start_time": "2022-11-24T09:20:49.708Z"
   },
   {
    "duration": 145,
    "start_time": "2022-11-24T09:20:51.603Z"
   },
   {
    "duration": 122,
    "start_time": "2022-11-24T09:20:58.188Z"
   },
   {
    "duration": 8338,
    "start_time": "2022-11-24T09:21:01.052Z"
   },
   {
    "duration": 739,
    "start_time": "2022-11-24T09:21:19.139Z"
   },
   {
    "duration": 23,
    "start_time": "2022-11-24T09:22:17.381Z"
   },
   {
    "duration": 341,
    "start_time": "2022-11-24T09:22:30.669Z"
   },
   {
    "duration": 686,
    "start_time": "2022-11-24T09:22:33.733Z"
   },
   {
    "duration": 346,
    "start_time": "2022-11-24T09:24:49.030Z"
   },
   {
    "duration": 717,
    "start_time": "2022-11-24T09:24:52.743Z"
   },
   {
    "duration": 15328,
    "start_time": "2022-11-24T09:24:55.152Z"
   },
   {
    "duration": 21,
    "start_time": "2022-11-24T09:25:10.482Z"
   },
   {
    "duration": 27,
    "start_time": "2022-11-24T09:25:43.648Z"
   },
   {
    "duration": 38,
    "start_time": "2022-11-24T09:25:57.169Z"
   },
   {
    "duration": 58181,
    "start_time": "2022-11-24T09:25:58.841Z"
   },
   {
    "duration": 16,
    "start_time": "2022-11-24T09:27:26.858Z"
   },
   {
    "duration": 24,
    "start_time": "2022-11-24T09:27:30.146Z"
   },
   {
    "duration": 25,
    "start_time": "2022-11-24T09:27:32.387Z"
   },
   {
    "duration": 415,
    "start_time": "2022-11-24T09:27:34.329Z"
   },
   {
    "duration": 59607,
    "start_time": "2022-11-24T09:27:37.139Z"
   },
   {
    "duration": 1182,
    "start_time": "2022-11-24T09:31:57.863Z"
   },
   {
    "duration": 1331,
    "start_time": "2022-11-24T09:33:09.720Z"
   },
   {
    "duration": 1108,
    "start_time": "2022-11-24T09:33:17.408Z"
   },
   {
    "duration": 907,
    "start_time": "2022-11-24T09:33:39.729Z"
   },
   {
    "duration": 1068,
    "start_time": "2022-11-24T09:33:53.929Z"
   },
   {
    "duration": 1078,
    "start_time": "2022-11-24T09:36:52.875Z"
   },
   {
    "duration": 1136,
    "start_time": "2022-11-24T09:40:00.343Z"
   },
   {
    "duration": 1130,
    "start_time": "2022-11-24T09:40:06.095Z"
   },
   {
    "duration": 10,
    "start_time": "2022-11-24T09:44:06.859Z"
   },
   {
    "duration": 11,
    "start_time": "2022-11-24T09:44:43.476Z"
   },
   {
    "duration": 10,
    "start_time": "2022-11-24T09:45:40.941Z"
   },
   {
    "duration": 22,
    "start_time": "2022-11-24T09:45:52.093Z"
   },
   {
    "duration": 89,
    "start_time": "2022-11-24T09:47:15.911Z"
   },
   {
    "duration": 1150,
    "start_time": "2022-11-24T09:50:02.993Z"
   },
   {
    "duration": 285,
    "start_time": "2022-11-24T09:50:05.938Z"
   },
   {
    "duration": 806337,
    "start_time": "2022-11-24T09:50:12.457Z"
   },
   {
    "duration": 53,
    "start_time": "2022-11-24T10:51:43.176Z"
   },
   {
    "duration": 48,
    "start_time": "2022-11-24T10:52:55.473Z"
   },
   {
    "duration": 53,
    "start_time": "2022-11-24T10:53:27.324Z"
   },
   {
    "duration": 61,
    "start_time": "2022-11-24T10:53:31.770Z"
   },
   {
    "duration": 59,
    "start_time": "2022-11-24T10:55:56.085Z"
   },
   {
    "duration": 47,
    "start_time": "2022-11-24T10:56:18.853Z"
   },
   {
    "duration": 50,
    "start_time": "2022-11-24T10:56:21.541Z"
   },
   {
    "duration": 47,
    "start_time": "2022-11-24T10:57:31.009Z"
   },
   {
    "duration": 57,
    "start_time": "2022-11-24T10:57:57.174Z"
   },
   {
    "duration": 46,
    "start_time": "2022-11-24T10:58:51.928Z"
   },
   {
    "duration": 11,
    "start_time": "2022-11-24T11:01:00.482Z"
   },
   {
    "duration": 16,
    "start_time": "2022-11-24T11:01:11.218Z"
   },
   {
    "duration": 68118,
    "start_time": "2022-11-24T11:03:39.213Z"
   },
   {
    "duration": 4101,
    "start_time": "2022-11-24T11:09:05.772Z"
   },
   {
    "duration": 7,
    "start_time": "2022-11-24T11:49:16.435Z"
   },
   {
    "duration": 7,
    "start_time": "2022-11-24T11:49:36.625Z"
   },
   {
    "duration": 46,
    "start_time": "2022-11-24T12:35:39.353Z"
   },
   {
    "duration": 1306,
    "start_time": "2022-11-24T12:49:19.760Z"
   },
   {
    "duration": 40,
    "start_time": "2022-11-24T12:49:23.440Z"
   },
   {
    "duration": 13,
    "start_time": "2022-11-24T12:49:25.401Z"
   },
   {
    "duration": 4,
    "start_time": "2022-11-24T12:49:28.143Z"
   },
   {
    "duration": 20,
    "start_time": "2022-11-24T12:49:29.872Z"
   },
   {
    "duration": 22,
    "start_time": "2022-11-24T12:49:32.427Z"
   },
   {
    "duration": 4,
    "start_time": "2022-11-24T12:49:34.463Z"
   },
   {
    "duration": 5,
    "start_time": "2022-11-24T12:49:37.012Z"
   },
   {
    "duration": 5,
    "start_time": "2022-11-24T12:49:39.415Z"
   },
   {
    "duration": 4,
    "start_time": "2022-11-24T12:49:41.095Z"
   },
   {
    "duration": 4,
    "start_time": "2022-11-24T12:49:42.807Z"
   },
   {
    "duration": 5,
    "start_time": "2022-11-24T12:49:45.488Z"
   },
   {
    "duration": 12,
    "start_time": "2022-11-24T12:49:50.247Z"
   },
   {
    "duration": 10,
    "start_time": "2022-11-24T12:49:52.608Z"
   },
   {
    "duration": 4,
    "start_time": "2022-11-24T12:49:55.376Z"
   },
   {
    "duration": 5,
    "start_time": "2022-11-24T12:49:57.384Z"
   },
   {
    "duration": 9,
    "start_time": "2022-11-24T12:49:59.080Z"
   },
   {
    "duration": 32,
    "start_time": "2022-11-24T12:50:01.376Z"
   },
   {
    "duration": 5,
    "start_time": "2022-11-24T12:50:05.280Z"
   },
   {
    "duration": 141,
    "start_time": "2022-11-24T12:50:07.921Z"
   },
   {
    "duration": 155,
    "start_time": "2022-11-24T12:50:14.241Z"
   },
   {
    "duration": 8361,
    "start_time": "2022-11-24T12:50:17.978Z"
   },
   {
    "duration": 649,
    "start_time": "2022-11-24T12:50:26.341Z"
   },
   {
    "duration": 25,
    "start_time": "2022-11-24T12:50:41.473Z"
   },
   {
    "duration": 323,
    "start_time": "2022-11-24T12:50:43.336Z"
   },
   {
    "duration": 723,
    "start_time": "2022-11-24T12:50:48.929Z"
   },
   {
    "duration": 73931,
    "start_time": "2022-11-24T12:51:30.555Z"
   },
   {
    "duration": 108,
    "start_time": "2022-11-24T12:59:58.627Z"
   },
   {
    "duration": 1420,
    "start_time": "2022-11-24T13:00:32.098Z"
   },
   {
    "duration": 41,
    "start_time": "2022-11-24T13:00:34.691Z"
   },
   {
    "duration": 14,
    "start_time": "2022-11-24T13:00:36.147Z"
   },
   {
    "duration": 5,
    "start_time": "2022-11-24T13:00:38.179Z"
   },
   {
    "duration": 20,
    "start_time": "2022-11-24T13:00:40.387Z"
   },
   {
    "duration": 23,
    "start_time": "2022-11-24T13:00:43.259Z"
   },
   {
    "duration": 5,
    "start_time": "2022-11-24T13:00:46.155Z"
   },
   {
    "duration": 4,
    "start_time": "2022-11-24T13:00:48.291Z"
   },
   {
    "duration": 5,
    "start_time": "2022-11-24T13:00:51.092Z"
   },
   {
    "duration": 3,
    "start_time": "2022-11-24T13:00:53.066Z"
   },
   {
    "duration": 4,
    "start_time": "2022-11-24T13:00:54.643Z"
   },
   {
    "duration": 5,
    "start_time": "2022-11-24T13:00:57.003Z"
   },
   {
    "duration": 10,
    "start_time": "2022-11-24T13:01:00.994Z"
   },
   {
    "duration": 10,
    "start_time": "2022-11-24T13:01:03.364Z"
   },
   {
    "duration": 5,
    "start_time": "2022-11-24T13:01:05.059Z"
   },
   {
    "duration": 6,
    "start_time": "2022-11-24T13:01:07.202Z"
   },
   {
    "duration": 9,
    "start_time": "2022-11-24T13:01:08.795Z"
   },
   {
    "duration": 32,
    "start_time": "2022-11-24T13:01:10.883Z"
   },
   {
    "duration": 5,
    "start_time": "2022-11-24T13:01:14.018Z"
   },
   {
    "duration": 183,
    "start_time": "2022-11-24T13:01:16.115Z"
   },
   {
    "duration": 28,
    "start_time": "2022-11-24T13:01:19.179Z"
   },
   {
    "duration": 8324,
    "start_time": "2022-11-24T13:01:22.379Z"
   },
   {
    "duration": 687,
    "start_time": "2022-11-24T13:01:33.419Z"
   },
   {
    "duration": 25,
    "start_time": "2022-11-24T13:01:39.908Z"
   },
   {
    "duration": 325,
    "start_time": "2022-11-24T13:01:42.660Z"
   },
   {
    "duration": 654,
    "start_time": "2022-11-24T13:01:45.379Z"
   },
   {
    "duration": 71851,
    "start_time": "2022-11-24T13:01:47.340Z"
   },
   {
    "duration": 13,
    "start_time": "2022-11-24T13:03:27.702Z"
   },
   {
    "duration": 108,
    "start_time": "2022-11-24T13:03:30.094Z"
   },
   {
    "duration": 40,
    "start_time": "2022-11-24T13:03:31.829Z"
   },
   {
    "duration": 58006,
    "start_time": "2022-11-24T13:03:37.901Z"
   },
   {
    "duration": 99045,
    "start_time": "2022-11-24T13:04:55.207Z"
   },
   {
    "duration": 14,
    "start_time": "2022-11-24T13:06:44.153Z"
   },
   {
    "duration": 17,
    "start_time": "2022-11-24T13:06:46.984Z"
   },
   {
    "duration": 21,
    "start_time": "2022-11-24T13:06:48.712Z"
   },
   {
    "duration": 422,
    "start_time": "2022-11-24T13:06:54.050Z"
   },
   {
    "duration": 99399,
    "start_time": "2022-11-24T13:07:31.298Z"
   },
   {
    "duration": 414547,
    "start_time": "2022-11-24T13:09:10.699Z"
   },
   {
    "duration": 99980,
    "start_time": "2022-11-24T13:16:32.931Z"
   },
   {
    "duration": 106505,
    "start_time": "2022-11-24T13:33:40.070Z"
   },
   {
    "duration": 80334,
    "start_time": "2022-11-24T13:40:56.321Z"
   },
   {
    "duration": 518,
    "start_time": "2022-11-24T13:43:04.582Z"
   },
   {
    "duration": 6,
    "start_time": "2022-11-24T13:43:11.070Z"
   },
   {
    "duration": 282,
    "start_time": "2022-11-24T13:43:40.470Z"
   },
   {
    "duration": 274,
    "start_time": "2022-11-24T13:44:02.078Z"
   },
   {
    "duration": 687,
    "start_time": "2022-11-24T13:44:17.463Z"
   },
   {
    "duration": 410,
    "start_time": "2022-11-24T13:44:43.895Z"
   },
   {
    "duration": 708,
    "start_time": "2022-11-24T13:45:02.008Z"
   },
   {
    "duration": 651,
    "start_time": "2022-11-24T13:45:40.121Z"
   },
   {
    "duration": 11,
    "start_time": "2022-11-24T13:45:43.705Z"
   },
   {
    "duration": 396,
    "start_time": "2022-11-24T13:45:47.408Z"
   },
   {
    "duration": 33,
    "start_time": "2022-11-24T13:46:59.490Z"
   },
   {
    "duration": 8,
    "start_time": "2022-11-24T13:47:03.409Z"
   },
   {
    "duration": 142,
    "start_time": "2022-11-24T13:47:04.915Z"
   },
   {
    "duration": 346,
    "start_time": "2022-11-24T13:47:10.249Z"
   },
   {
    "duration": 8373,
    "start_time": "2022-11-24T13:47:12.986Z"
   },
   {
    "duration": 818,
    "start_time": "2022-11-24T13:47:21.361Z"
   },
   {
    "duration": 43,
    "start_time": "2022-11-24T13:47:22.181Z"
   },
   {
    "duration": 512,
    "start_time": "2022-11-24T13:47:22.227Z"
   },
   {
    "duration": 79865,
    "start_time": "2022-11-24T13:47:26.066Z"
   },
   {
    "duration": 29,
    "start_time": "2022-11-24T13:48:45.933Z"
   },
   {
    "duration": 149,
    "start_time": "2022-11-24T13:48:45.997Z"
   },
   {
    "duration": 99266,
    "start_time": "2022-11-24T13:48:46.149Z"
   },
   {
    "duration": 19,
    "start_time": "2022-11-24T13:50:25.416Z"
   },
   {
    "duration": 15,
    "start_time": "2022-11-24T13:50:25.436Z"
   },
   {
    "duration": 53,
    "start_time": "2022-11-24T13:50:25.453Z"
   },
   {
    "duration": 108,
    "start_time": "2022-11-24T13:50:25.508Z"
   },
   {
    "duration": 442,
    "start_time": "2022-11-24T13:50:25.618Z"
   },
   {
    "duration": 100921,
    "start_time": "2022-11-24T13:50:26.063Z"
   },
   {
    "duration": 1053,
    "start_time": "2022-11-24T13:52:06.986Z"
   },
   {
    "duration": 264,
    "start_time": "2022-11-24T13:52:08.041Z"
   },
   {
    "duration": 14,
    "start_time": "2022-11-24T13:52:26.895Z"
   },
   {
    "duration": 30,
    "start_time": "2022-11-24T13:52:33.295Z"
   },
   {
    "duration": 41,
    "start_time": "2022-11-24T13:52:35.575Z"
   },
   {
    "duration": 100151,
    "start_time": "2022-11-24T13:52:37.631Z"
   },
   {
    "duration": 19,
    "start_time": "2022-11-24T13:54:17.784Z"
   },
   {
    "duration": 14,
    "start_time": "2022-11-24T13:54:17.805Z"
   },
   {
    "duration": 198,
    "start_time": "2022-11-24T13:54:17.821Z"
   },
   {
    "duration": 442,
    "start_time": "2022-11-24T13:54:18.021Z"
   },
   {
    "duration": 102126,
    "start_time": "2022-11-24T13:54:18.465Z"
   },
   {
    "duration": 1135,
    "start_time": "2022-11-24T13:56:00.596Z"
   },
   {
    "duration": 352,
    "start_time": "2022-11-24T13:56:01.734Z"
   },
   {
    "duration": 75066,
    "start_time": "2022-11-24T13:56:02.088Z"
   },
   {
    "duration": 626,
    "start_time": "2022-11-24T13:57:17.156Z"
   },
   {
    "duration": 5,
    "start_time": "2022-11-24T13:57:17.783Z"
   },
   {
    "duration": 402,
    "start_time": "2022-11-24T13:57:17.797Z"
   },
   {
    "duration": 704,
    "start_time": "2022-11-24T13:57:18.201Z"
   },
   {
    "duration": 487,
    "start_time": "2022-11-24T14:01:27.912Z"
   },
   {
    "duration": 453,
    "start_time": "2022-11-24T14:01:40.144Z"
   },
   {
    "duration": 844,
    "start_time": "2022-11-24T14:03:06.955Z"
   },
   {
    "duration": 7,
    "start_time": "2022-11-24T14:03:10.618Z"
   },
   {
    "duration": 631,
    "start_time": "2022-11-24T14:03:27.467Z"
   },
   {
    "duration": 624,
    "start_time": "2022-11-24T14:03:37.075Z"
   },
   {
    "duration": 649,
    "start_time": "2022-11-24T14:06:01.054Z"
   },
   {
    "duration": 863,
    "start_time": "2022-11-24T14:07:33.334Z"
   },
   {
    "duration": 314,
    "start_time": "2022-11-24T14:08:21.695Z"
   },
   {
    "duration": 432,
    "start_time": "2022-11-24T14:08:34.663Z"
   },
   {
    "duration": 605,
    "start_time": "2022-11-24T14:09:08.392Z"
   },
   {
    "duration": 261,
    "start_time": "2022-11-24T14:09:25.136Z"
   },
   {
    "duration": 287,
    "start_time": "2022-11-24T14:09:33.312Z"
   },
   {
    "duration": 663,
    "start_time": "2022-11-24T14:09:44.136Z"
   },
   {
    "duration": 287,
    "start_time": "2022-11-24T14:10:01.914Z"
   },
   {
    "duration": 266,
    "start_time": "2022-11-24T14:10:05.233Z"
   },
   {
    "duration": 551,
    "start_time": "2022-11-24T14:15:49.864Z"
   },
   {
    "duration": 279,
    "start_time": "2022-11-24T14:16:00.320Z"
   },
   {
    "duration": 283,
    "start_time": "2022-11-24T14:17:21.522Z"
   },
   {
    "duration": 243,
    "start_time": "2022-11-24T14:18:29.180Z"
   },
   {
    "duration": 237,
    "start_time": "2022-11-24T14:18:50.516Z"
   },
   {
    "duration": 699,
    "start_time": "2022-11-24T14:19:39.011Z"
   },
   {
    "duration": 600,
    "start_time": "2022-11-24T14:20:35.333Z"
   },
   {
    "duration": 488,
    "start_time": "2022-11-24T14:22:53.816Z"
   }
  ],
  "kernelspec": {
   "display_name": "Python 3 (ipykernel)",
   "language": "python",
   "name": "python3"
  },
  "language_info": {
   "codemirror_mode": {
    "name": "ipython",
    "version": 3
   },
   "file_extension": ".py",
   "mimetype": "text/x-python",
   "name": "python",
   "nbconvert_exporter": "python",
   "pygments_lexer": "ipython3",
   "version": "3.9.5"
  },
  "toc": {
   "base_numbering": 1,
   "nav_menu": {},
   "number_sections": true,
   "sideBar": true,
   "skip_h1_title": true,
   "title_cell": "Содержание",
   "title_sidebar": "Contents",
   "toc_cell": true,
   "toc_position": {},
   "toc_section_display": true,
   "toc_window_display": false
  }
 },
 "nbformat": 4,
 "nbformat_minor": 2
}
